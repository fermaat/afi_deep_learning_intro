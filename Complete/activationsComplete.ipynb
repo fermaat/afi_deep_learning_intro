{
 "cells": [
  {
   "cell_type": "markdown",
   "metadata": {},
   "source": [
    "# Activation functions\n",
    "\n",
    "On this notebook we will take a look at some of the different activation functions present in keras backend and will compare them.\n",
    "\n",
    "## The data\n",
    "We will use our old friend MNIST for its simplicity. \n",
    "\n",
    "<font color=red><b>Load the dataset and preprocess it. \n",
    "</font>"
   ]
  },
  {
   "cell_type": "code",
   "execution_count": 1,
   "metadata": {},
   "outputs": [
    {
     "name": "stdout",
     "output_type": "stream",
     "text": [
      "x_train shape: (60000, 784)\n",
      "60000 train samples\n",
      "10000 test samples\n"
     ]
    }
   ],
   "source": [
    "import os, time\n",
    "import tensorflow as tf\n",
    "physical_devices = tf.config.experimental.list_physical_devices('GPU')\n",
    "tf.config.experimental.set_memory_growth(physical_devices[0], True)\n",
    "\n",
    "tf.keras.backend.clear_session() \n",
    "from tensorflow.keras.datasets import mnist\n",
    "from tensorflow.keras.utils import to_categorical\n",
    "\n",
    "# the data, split between train and test sets\n",
    "(x_train, y_train), (x_test, y_test) = mnist.load_data()\n",
    "\n",
    "x_train = x_train.astype('float32')\n",
    "x_test = x_test.astype('float32')\n",
    "x_train /= 255\n",
    "x_test /= 255\n",
    "\n",
    "x_train = x_train.reshape(x_train.shape[0], x_train.shape[1]*x_train.shape[2])\n",
    "x_test = x_test.reshape(x_test.shape[0], x_test.shape[1]*x_test.shape[2])\n",
    "\n",
    "\n",
    "\n",
    "y_train = to_categorical(y_train)\n",
    "y_test = to_categorical(y_test)\n",
    "\n",
    "\n",
    "print('x_train shape:', x_train.shape)\n",
    "print(x_train.shape[0], 'train samples')\n",
    "print(x_test.shape[0], 'test samples')"
   ]
  },
  {
   "cell_type": "code",
   "execution_count": 2,
   "metadata": {},
   "outputs": [],
   "source": [
    "%matplotlib inline\n",
    "import matplotlib.pyplot as plt\n",
    "import tensorflow as tf\n",
    "physical_devices = tf.config.experimental.list_physical_devices('GPU')\n",
    "tf.config.experimental.set_memory_growth(physical_devices[0], True)\n",
    "\n",
    "tf.keras.backend.clear_session() \n",
    "\n",
    "from tensorflow import keras\n",
    "from tensorflow.keras.datasets import mnist\n",
    "from tensorflow.keras.models import Sequential\n",
    "from tensorflow.keras.layers import Dense, Dropout\n",
    "from tensorflow.keras.optimizers import RMSprop\n",
    "from tensorflow.keras.layers import LeakyReLU"
   ]
  },
  {
   "cell_type": "markdown",
   "metadata": {
    "collapsed": true
   },
   "source": [
    "## Model Architecture\n",
    "Let's build a very simple model on this example. It will consist on:\n",
    "- A dense layer with 512 units, relu activated\n",
    "- A dense layer with the number of classes as  the amount of units, softmax activated\n",
    "- Use RMSprop as the optimizer and categorical crossentropy as the loss function. Add accuracy to the metrics\n",
    "\n",
    "<font color=red><b> Build the model\n",
    "</font>"
   ]
  },
  {
   "cell_type": "code",
   "execution_count": 3,
   "metadata": {},
   "outputs": [
    {
     "name": "stdout",
     "output_type": "stream",
     "text": [
      "Model: \"sequential\"\n",
      "_________________________________________________________________\n",
      "Layer (type)                 Output Shape              Param #   \n",
      "=================================================================\n",
      "dense (Dense)                (None, 512)               401920    \n",
      "_________________________________________________________________\n",
      "dense_1 (Dense)              (None, 10)                5130      \n",
      "=================================================================\n",
      "Total params: 407,050\n",
      "Trainable params: 407,050\n",
      "Non-trainable params: 0\n",
      "_________________________________________________________________\n"
     ]
    }
   ],
   "source": [
    "num_classes = 10\n",
    "model = Sequential()\n",
    "model.add(Dense(512, activation='relu', input_shape=(784,)))\n",
    "model.add(Dense(num_classes, activation='softmax'))\n",
    "model.compile(loss='categorical_crossentropy',\n",
    "              optimizer=RMSprop(),\n",
    "              metrics=['accuracy'])\n",
    "\n",
    "model.summary()"
   ]
  },
  {
   "cell_type": "markdown",
   "metadata": {},
   "source": [
    "<font color=red><b> Train the model for 5 epochs and with a batch size of 128. Use the test data as validation and evaluate the model. Keep the information in a history variable\n",
    "</font>"
   ]
  },
  {
   "cell_type": "code",
   "execution_count": 4,
   "metadata": {},
   "outputs": [
    {
     "name": "stdout",
     "output_type": "stream",
     "text": [
      "Train on 60000 samples, validate on 10000 samples\n",
      "Epoch 1/5\n",
      "60000/60000 [==============================] - 2s 29us/sample - loss: 0.2519 - accuracy: 0.9278 - val_loss: 0.1242 - val_accuracy: 0.9628\n",
      "Epoch 2/5\n",
      "60000/60000 [==============================] - 1s 19us/sample - loss: 0.1030 - accuracy: 0.9696 - val_loss: 0.0868 - val_accuracy: 0.9733\n",
      "Epoch 3/5\n",
      "60000/60000 [==============================] - 1s 18us/sample - loss: 0.0674 - accuracy: 0.9801 - val_loss: 0.0766 - val_accuracy: 0.9772\n",
      "Epoch 4/5\n",
      "60000/60000 [==============================] - 1s 17us/sample - loss: 0.0481 - accuracy: 0.9855 - val_loss: 0.0646 - val_accuracy: 0.9807\n",
      "Epoch 5/5\n",
      "60000/60000 [==============================] - 1s 17us/sample - loss: 0.0364 - accuracy: 0.9894 - val_loss: 0.0679 - val_accuracy: 0.9781\n",
      "Test loss: 0.068\n",
      "Test accuracy: 0.978\n"
     ]
    }
   ],
   "source": [
    "batch_size = 128\n",
    "epochs = 5\n",
    "    \n",
    "history = model.fit(x_train, y_train,\n",
    "                    batch_size=batch_size,\n",
    "                    epochs=epochs,\n",
    "                    verbose=1,\n",
    "                    validation_data=(x_test, y_test))\n",
    "\n",
    "score = model.evaluate(x_test, y_test, verbose=100)\n",
    "\n",
    "print ('Test loss:', round(score[0], 3))\n",
    "print ('Test accuracy:', round(score[1], 3))\n"
   ]
  },
  {
   "cell_type": "markdown",
   "metadata": {},
   "source": [
    "Let's now plot the loss for both using matplotlib. Is it nice?"
   ]
  },
  {
   "cell_type": "code",
   "execution_count": 5,
   "metadata": {},
   "outputs": [
    {
     "data": {
      "text/plain": [
       "<matplotlib.legend.Legend at 0x7ff85079c128>"
      ]
     },
     "execution_count": 5,
     "metadata": {},
     "output_type": "execute_result"
    },
    {
     "data": {
      "image/png": "[encoded data removed]",
      "text/plain": [
       "<Figure size 432x288 with 1 Axes>"
      ]
     },
     "metadata": {
      "needs_background": "light"
     },
     "output_type": "display_data"
    }
   ],
   "source": [
    "plt.plot(history.history['loss'])\n",
    "plt.plot(history.history['val_loss'])\n",
    "plt.title('model loss')\n",
    "plt.ylabel('loss')\n",
    "plt.xlabel('epoch')\n",
    "plt.legend(['train', 'test'], loc='upper left')"
   ]
  },
  {
   "cell_type": "markdown",
   "metadata": {},
   "source": [
    "# Build networks using all activations\n",
    "Now let's run the model with all the activations in the list and view the results in tensorboard\n",
    "\n",
    "\n",
    "<font color=red><b> Let's do precisely that!\n",
    "    <br> Hint: remember to add the tensorboard as a callback for the training.\n",
    "    <br> Hint2: use the function os.path.join to include the activation name on each model call\n",
    "    \n",
    "</font>"
   ]
  },
  {
   "cell_type": "code",
   "execution_count": 6,
   "metadata": {},
   "outputs": [
    {
     "name": "stdout",
     "output_type": "stream",
     "text": [
      "Train on 60000 samples, validate on 10000 samples\n",
      "Epoch 1/20\n",
      "60000/60000 [==============================] - 1s 23us/sample - loss: 0.3829 - accuracy: 0.8892 - val_loss: 0.3109 - val_accuracy: 0.9133\n",
      "Epoch 2/20\n",
      "60000/60000 [==============================] - 1s 17us/sample - loss: 0.3096 - accuracy: 0.9135 - val_loss: 0.3138 - val_accuracy: 0.9119\n",
      "Epoch 3/20\n",
      "60000/60000 [==============================] - 1s 17us/sample - loss: 0.2955 - accuracy: 0.9178 - val_loss: 0.3409 - val_accuracy: 0.9092\n",
      "Epoch 4/20\n",
      "60000/60000 [==============================] - 1s 18us/sample - loss: 0.2873 - accuracy: 0.9209 - val_loss: 0.2985 - val_accuracy: 0.9198\n",
      "Epoch 5/20\n",
      "60000/60000 [==============================] - 1s 19us/sample - loss: 0.2843 - accuracy: 0.9200 - val_loss: 0.2848 - val_accuracy: 0.9216\n",
      "Epoch 6/20\n",
      "60000/60000 [==============================] - 1s 17us/sample - loss: 0.2787 - accuracy: 0.9218 - val_loss: 0.2889 - val_accuracy: 0.9201\n",
      "Epoch 7/20\n",
      "60000/60000 [==============================] - 1s 17us/sample - loss: 0.2746 - accuracy: 0.9241 - val_loss: 0.2818 - val_accuracy: 0.9215\n",
      "Epoch 8/20\n",
      "60000/60000 [==============================] - 1s 16us/sample - loss: 0.2728 - accuracy: 0.9239 - val_loss: 0.2818 - val_accuracy: 0.9216\n",
      "Epoch 9/20\n",
      "60000/60000 [==============================] - 1s 17us/sample - loss: 0.2715 - accuracy: 0.9245 - val_loss: 0.2880 - val_accuracy: 0.9207\n",
      "Epoch 10/20\n",
      "60000/60000 [==============================] - 1s 18us/sample - loss: 0.2689 - accuracy: 0.9256 - val_loss: 0.2826 - val_accuracy: 0.9217\n",
      "Epoch 11/20\n",
      "60000/60000 [==============================] - 1s 19us/sample - loss: 0.2673 - accuracy: 0.9253 - val_loss: 0.2851 - val_accuracy: 0.9209\n",
      "Epoch 12/20\n",
      "60000/60000 [==============================] - 1s 19us/sample - loss: 0.2658 - accuracy: 0.9259 - val_loss: 0.2822 - val_accuracy: 0.9251\n",
      "Epoch 13/20\n",
      "60000/60000 [==============================] - 1s 19us/sample - loss: 0.2649 - accuracy: 0.9263 - val_loss: 0.2884 - val_accuracy: 0.9232\n",
      "Epoch 14/20\n",
      "60000/60000 [==============================] - 1s 18us/sample - loss: 0.2631 - accuracy: 0.9270 - val_loss: 0.3032 - val_accuracy: 0.9152\n",
      "Epoch 15/20\n",
      "60000/60000 [==============================] - 1s 17us/sample - loss: 0.2625 - accuracy: 0.9274 - val_loss: 0.2940 - val_accuracy: 0.9233\n",
      "Epoch 16/20\n",
      "60000/60000 [==============================] - 1s 18us/sample - loss: 0.2613 - accuracy: 0.9274 - val_loss: 0.2877 - val_accuracy: 0.9205\n",
      "Epoch 17/20\n",
      "60000/60000 [==============================] - 1s 18us/sample - loss: 0.2597 - accuracy: 0.9281 - val_loss: 0.2846 - val_accuracy: 0.9236\n",
      "Epoch 18/20\n",
      "60000/60000 [==============================] - 1s 18us/sample - loss: 0.2586 - accuracy: 0.9278 - val_loss: 0.2905 - val_accuracy: 0.9216\n",
      "Epoch 19/20\n",
      "60000/60000 [==============================] - 1s 17us/sample - loss: 0.2586 - accuracy: 0.9283 - val_loss: 0.2970 - val_accuracy: 0.9214\n",
      "Epoch 20/20\n",
      "60000/60000 [==============================] - 1s 18us/sample - loss: 0.2576 - accuracy: 0.9286 - val_loss: 0.2925 - val_accuracy: 0.9217\n",
      "Train on 60000 samples, validate on 10000 samples\n",
      "Epoch 1/20\n",
      "60000/60000 [==============================] - 1s 24us/sample - loss: 0.4269 - accuracy: 0.8853 - val_loss: 0.2551 - val_accuracy: 0.9265\n",
      "Epoch 2/20\n",
      "60000/60000 [==============================] - 1s 19us/sample - loss: 0.2340 - accuracy: 0.9319 - val_loss: 0.1964 - val_accuracy: 0.9429\n",
      "Epoch 3/20\n",
      "60000/60000 [==============================] - 1s 19us/sample - loss: 0.1770 - accuracy: 0.9484 - val_loss: 0.1593 - val_accuracy: 0.9532\n",
      "Epoch 4/20\n",
      "60000/60000 [==============================] - 1s 18us/sample - loss: 0.1391 - accuracy: 0.9596 - val_loss: 0.1300 - val_accuracy: 0.9607\n",
      "Epoch 5/20\n",
      "60000/60000 [==============================] - 1s 18us/sample - loss: 0.1131 - accuracy: 0.9663 - val_loss: 0.1120 - val_accuracy: 0.9659\n",
      "Epoch 6/20\n",
      "60000/60000 [==============================] - 1s 18us/sample - loss: 0.0933 - accuracy: 0.9730 - val_loss: 0.0978 - val_accuracy: 0.9704\n",
      "Epoch 7/20\n",
      "60000/60000 [==============================] - 1s 18us/sample - loss: 0.0790 - accuracy: 0.9769 - val_loss: 0.0974 - val_accuracy: 0.9703\n",
      "Epoch 8/20\n",
      "60000/60000 [==============================] - 1s 22us/sample - loss: 0.0683 - accuracy: 0.9800 - val_loss: 0.0805 - val_accuracy: 0.9753\n",
      "Epoch 9/20\n",
      "60000/60000 [==============================] - 1s 18us/sample - loss: 0.0589 - accuracy: 0.9828 - val_loss: 0.0787 - val_accuracy: 0.9764\n",
      "Epoch 10/20\n",
      "60000/60000 [==============================] - 1s 18us/sample - loss: 0.0511 - accuracy: 0.9850 - val_loss: 0.0747 - val_accuracy: 0.9775\n",
      "Epoch 11/20\n",
      "60000/60000 [==============================] - 1s 18us/sample - loss: 0.0447 - accuracy: 0.9873 - val_loss: 0.0695 - val_accuracy: 0.9779\n",
      "Epoch 12/20\n",
      "60000/60000 [==============================] - 1s 18us/sample - loss: 0.0388 - accuracy: 0.9891 - val_loss: 0.0727 - val_accuracy: 0.9785\n",
      "Epoch 13/20\n",
      "60000/60000 [==============================] - 1s 18us/sample - loss: 0.0341 - accuracy: 0.9904 - val_loss: 0.0731 - val_accuracy: 0.9782\n",
      "Epoch 14/20\n",
      "60000/60000 [==============================] - 1s 18us/sample - loss: 0.0297 - accuracy: 0.9919 - val_loss: 0.0658 - val_accuracy: 0.9809\n",
      "Epoch 15/20\n",
      "60000/60000 [==============================] - 1s 18us/sample - loss: 0.0260 - accuracy: 0.9931 - val_loss: 0.0662 - val_accuracy: 0.9796\n",
      "Epoch 16/20\n",
      "60000/60000 [==============================] - 1s 18us/sample - loss: 0.0227 - accuracy: 0.9944 - val_loss: 0.0635 - val_accuracy: 0.9799\n",
      "Epoch 17/20\n",
      "60000/60000 [==============================] - 1s 18us/sample - loss: 0.0197 - accuracy: 0.9952 - val_loss: 0.0658 - val_accuracy: 0.9807\n",
      "Epoch 18/20\n",
      "60000/60000 [==============================] - 1s 18us/sample - loss: 0.0172 - accuracy: 0.9961 - val_loss: 0.0676 - val_accuracy: 0.9798\n",
      "Epoch 19/20\n",
      "60000/60000 [==============================] - 1s 18us/sample - loss: 0.0148 - accuracy: 0.9966 - val_loss: 0.0719 - val_accuracy: 0.9797\n",
      "Epoch 20/20\n",
      "60000/60000 [==============================] - 1s 19us/sample - loss: 0.0127 - accuracy: 0.9971 - val_loss: 0.0663 - val_accuracy: 0.9811\n",
      "Train on 60000 samples, validate on 10000 samples\n",
      "Epoch 1/20\n",
      "60000/60000 [==============================] - 1s 24us/sample - loss: 0.3369 - accuracy: 0.9010 - val_loss: 0.2072 - val_accuracy: 0.9385\n",
      "Epoch 2/20\n",
      "60000/60000 [==============================] - 1s 18us/sample - loss: 0.1750 - accuracy: 0.9493 - val_loss: 0.1463 - val_accuracy: 0.9559\n",
      "Epoch 3/20\n",
      "60000/60000 [==============================] - 1s 19us/sample - loss: 0.1172 - accuracy: 0.9644 - val_loss: 0.1061 - val_accuracy: 0.9684\n",
      "Epoch 4/20\n",
      "60000/60000 [==============================] - 1s 20us/sample - loss: 0.0850 - accuracy: 0.9752 - val_loss: 0.1018 - val_accuracy: 0.9678\n",
      "Epoch 5/20\n",
      "60000/60000 [==============================] - 1s 20us/sample - loss: 0.0654 - accuracy: 0.9809 - val_loss: 0.0784 - val_accuracy: 0.9762\n",
      "Epoch 6/20\n",
      "60000/60000 [==============================] - 1s 21us/sample - loss: 0.0507 - accuracy: 0.9849 - val_loss: 0.0766 - val_accuracy: 0.9763\n",
      "Epoch 7/20\n",
      "60000/60000 [==============================] - 1s 21us/sample - loss: 0.0403 - accuracy: 0.9881 - val_loss: 0.0785 - val_accuracy: 0.9752\n",
      "Epoch 8/20\n",
      "60000/60000 [==============================] - 1s 21us/sample - loss: 0.0323 - accuracy: 0.9903 - val_loss: 0.0673 - val_accuracy: 0.9800\n",
      "Epoch 9/20\n",
      "60000/60000 [==============================] - 1s 20us/sample - loss: 0.0256 - accuracy: 0.9927 - val_loss: 0.0663 - val_accuracy: 0.9794\n",
      "Epoch 10/20\n",
      "60000/60000 [==============================] - 1s 18us/sample - loss: 0.0199 - accuracy: 0.9947 - val_loss: 0.0662 - val_accuracy: 0.9802\n",
      "Epoch 11/20\n",
      "60000/60000 [==============================] - 1s 18us/sample - loss: 0.0162 - accuracy: 0.9959 - val_loss: 0.0685 - val_accuracy: 0.9806\n",
      "Epoch 12/20\n",
      "60000/60000 [==============================] - 1s 18us/sample - loss: 0.0124 - accuracy: 0.9969 - val_loss: 0.0636 - val_accuracy: 0.9816\n",
      "Epoch 13/20\n",
      "60000/60000 [==============================] - 1s 18us/sample - loss: 0.0101 - accuracy: 0.9977 - val_loss: 0.0678 - val_accuracy: 0.9802\n",
      "Epoch 14/20\n",
      "60000/60000 [==============================] - 1s 19us/sample - loss: 0.0075 - accuracy: 0.9984 - val_loss: 0.0680 - val_accuracy: 0.9819\n"
     ]
    },
    {
     "name": "stdout",
     "output_type": "stream",
     "text": [
      "Epoch 15/20\n",
      "60000/60000 [==============================] - 1s 18us/sample - loss: 0.0062 - accuracy: 0.9986 - val_loss: 0.0625 - val_accuracy: 0.9828\n",
      "Epoch 16/20\n",
      "60000/60000 [==============================] - 1s 18us/sample - loss: 0.0048 - accuracy: 0.9991 - val_loss: 0.0666 - val_accuracy: 0.9828\n",
      "Epoch 17/20\n",
      "60000/60000 [==============================] - 1s 18us/sample - loss: 0.0038 - accuracy: 0.9993 - val_loss: 0.0633 - val_accuracy: 0.9838\n",
      "Epoch 18/20\n",
      "60000/60000 [==============================] - 1s 18us/sample - loss: 0.0028 - accuracy: 0.9995 - val_loss: 0.0728 - val_accuracy: 0.9813\n",
      "Epoch 19/20\n",
      "60000/60000 [==============================] - 1s 18us/sample - loss: 0.0023 - accuracy: 0.9995 - val_loss: 0.0934 - val_accuracy: 0.9762\n",
      "Epoch 20/20\n",
      "60000/60000 [==============================] - 1s 19us/sample - loss: 0.0018 - accuracy: 0.9996 - val_loss: 0.0723 - val_accuracy: 0.9830\n",
      "Train on 60000 samples, validate on 10000 samples\n",
      "Epoch 1/20\n",
      "60000/60000 [==============================] - 1s 23us/sample - loss: 0.2555 - accuracy: 0.9248 - val_loss: 0.1451 - val_accuracy: 0.9553\n",
      "Epoch 2/20\n",
      "60000/60000 [==============================] - 1s 18us/sample - loss: 0.1032 - accuracy: 0.9688 - val_loss: 0.0888 - val_accuracy: 0.9727\n",
      "Epoch 3/20\n",
      "60000/60000 [==============================] - 1s 17us/sample - loss: 0.0678 - accuracy: 0.9801 - val_loss: 0.0787 - val_accuracy: 0.9763\n",
      "Epoch 4/20\n",
      "60000/60000 [==============================] - 1s 18us/sample - loss: 0.0490 - accuracy: 0.9851 - val_loss: 0.0771 - val_accuracy: 0.9761\n",
      "Epoch 5/20\n",
      "60000/60000 [==============================] - 1s 19us/sample - loss: 0.0370 - accuracy: 0.9891 - val_loss: 0.0705 - val_accuracy: 0.9785\n",
      "Epoch 6/20\n",
      "60000/60000 [==============================] - 1s 18us/sample - loss: 0.0278 - accuracy: 0.9918 - val_loss: 0.0689 - val_accuracy: 0.9793\n",
      "Epoch 7/20\n",
      "60000/60000 [==============================] - 1s 20us/sample - loss: 0.0218 - accuracy: 0.9938 - val_loss: 0.0611 - val_accuracy: 0.9825\n",
      "Epoch 8/20\n",
      "60000/60000 [==============================] - 1s 19us/sample - loss: 0.0165 - accuracy: 0.9953 - val_loss: 0.0678 - val_accuracy: 0.9792\n",
      "Epoch 9/20\n",
      "60000/60000 [==============================] - 1s 20us/sample - loss: 0.0126 - accuracy: 0.9965 - val_loss: 0.0695 - val_accuracy: 0.9801\n",
      "Epoch 10/20\n",
      "60000/60000 [==============================] - 1s 20us/sample - loss: 0.0103 - accuracy: 0.9972 - val_loss: 0.0730 - val_accuracy: 0.9814\n",
      "Epoch 11/20\n",
      "60000/60000 [==============================] - 1s 17us/sample - loss: 0.0074 - accuracy: 0.9979 - val_loss: 0.0735 - val_accuracy: 0.9808\n",
      "Epoch 12/20\n",
      "60000/60000 [==============================] - 1s 18us/sample - loss: 0.0062 - accuracy: 0.9982 - val_loss: 0.0779 - val_accuracy: 0.9812\n",
      "Epoch 13/20\n",
      "60000/60000 [==============================] - 1s 20us/sample - loss: 0.0045 - accuracy: 0.9988 - val_loss: 0.0802 - val_accuracy: 0.9814\n",
      "Epoch 14/20\n",
      "60000/60000 [==============================] - 1s 19us/sample - loss: 0.0034 - accuracy: 0.9991 - val_loss: 0.0930 - val_accuracy: 0.9797\n",
      "Epoch 15/20\n",
      "60000/60000 [==============================] - 1s 19us/sample - loss: 0.0031 - accuracy: 0.9991 - val_loss: 0.0855 - val_accuracy: 0.9813\n",
      "Epoch 16/20\n",
      "60000/60000 [==============================] - 1s 19us/sample - loss: 0.0022 - accuracy: 0.9995 - val_loss: 0.0913 - val_accuracy: 0.9805\n",
      "Epoch 17/20\n",
      "60000/60000 [==============================] - 1s 19us/sample - loss: 0.0016 - accuracy: 0.9995 - val_loss: 0.0917 - val_accuracy: 0.9824\n",
      "Epoch 18/20\n",
      "60000/60000 [==============================] - 1s 20us/sample - loss: 0.0015 - accuracy: 0.9997 - val_loss: 0.0983 - val_accuracy: 0.9822\n",
      "Epoch 19/20\n",
      "60000/60000 [==============================] - 1s 22us/sample - loss: 0.0011 - accuracy: 0.9997 - val_loss: 0.1002 - val_accuracy: 0.9810\n",
      "Epoch 20/20\n",
      "60000/60000 [==============================] - 1s 20us/sample - loss: 8.9458e-04 - accuracy: 0.9998 - val_loss: 0.1064 - val_accuracy: 0.9807\n"
     ]
    }
   ],
   "source": [
    "from tensorflow.keras.callbacks import TensorBoard\n",
    "epochs = 20\n",
    "log_path = '/home/fer/data/formaciones/afi/tensorboard_log/activations_experiment'\n",
    "for activation in [None, 'sigmoid', 'tanh', 'relu']:\n",
    "    # build and compile the model\n",
    "    model = Sequential()\n",
    "    model.add(Dense(512, activation=activation, input_shape=(784,)))\n",
    "    model.add(Dense(num_classes, activation='softmax'))\n",
    "    model.compile(loss='categorical_crossentropy',\n",
    "              optimizer=RMSprop(),\n",
    "              metrics=['accuracy'])\n",
    "    \n",
    "    tensorboard = TensorBoard(os.path.join(log_path,f'{activation}_{time.time()}'))\n",
    "    # fit the model, adding the tensorboard to the callbacks\n",
    "    model.fit(x_train, y_train,\n",
    "                    batch_size=batch_size,\n",
    "                    epochs=epochs,\n",
    "                    verbose=1,\n",
    "                    validation_data=(x_test, y_test),\n",
    "                    callbacks=[tensorboard])"
   ]
  },
  {
   "cell_type": "code",
   "execution_count": null,
   "metadata": {},
   "outputs": [],
   "source": []
  }
 ],
 "metadata": {
  "kernelspec": {
   "display_name": "dl_tf2",
   "language": "python",
   "name": "dl_tf2"
  },
  "language_info": {
   "codemirror_mode": {
    "name": "ipython",
    "version": 3
   },
   "file_extension": ".py",
   "mimetype": "text/x-python",
   "name": "python",
   "nbconvert_exporter": "python",
   "pygments_lexer": "ipython3",
   "version": "3.6.9"
  }
 },
 "nbformat": 4,
 "nbformat_minor": 2
}
