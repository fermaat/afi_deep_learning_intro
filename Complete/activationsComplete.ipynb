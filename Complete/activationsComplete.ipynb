{
 "cells": [
  {
   "cell_type": "markdown",
   "metadata": {},
   "source": [
    "# Activation functions\n",
    "\n",
    "On this notebook we will take a look at some of the different activation functions present in keras backend and will compare them.\n",
    "\n",
    "## The data\n",
    "We will use our old friend MNIST for its simplicity. \n",
    "\n",
    "<font color=red><b>Load the dataset and preprocess it. \n",
    "</font>"
   ]
  },
  {
   "cell_type": "code",
   "execution_count": 1,
   "metadata": {},
   "outputs": [
    {
     "name": "stdout",
     "output_type": "stream",
     "text": [
      "x_train shape: (60000, 784)\n",
      "60000 train samples\n",
      "10000 test samples\n"
     ]
    }
   ],
   "source": [
    "import os, time\n",
    "import tensorflow as tf\n",
    "# physical_devices = tf.config.experimental.list_physical_devices('GPU')\n",
    "# tf.config.experimental.set_memory_growth(physical_devices[0], True)\n",
    "\n",
    "tf.keras.backend.clear_session() \n",
    "from tensorflow.keras.datasets import mnist\n",
    "from tensorflow.keras.utils import to_categorical\n",
    "\n",
    "# the data, split between train and test sets\n",
    "(x_train, y_train), (x_test, y_test) = mnist.load_data()\n",
    "\n",
    "x_train = x_train.astype('float32')\n",
    "x_test = x_test.astype('float32')\n",
    "x_train /= 255\n",
    "x_test /= 255\n",
    "\n",
    "x_train = x_train.reshape(x_train.shape[0], x_train.shape[1]*x_train.shape[2])\n",
    "x_test = x_test.reshape(x_test.shape[0], x_test.shape[1]*x_test.shape[2])\n",
    "\n",
    "\n",
    "\n",
    "y_train = to_categorical(y_train)\n",
    "y_test = to_categorical(y_test)\n",
    "\n",
    "\n",
    "print('x_train shape:', x_train.shape)\n",
    "print(x_train.shape[0], 'train samples')\n",
    "print(x_test.shape[0], 'test samples')"
   ]
  },
  {
   "cell_type": "code",
   "execution_count": 2,
   "metadata": {},
   "outputs": [],
   "source": [
    "%matplotlib inline\n",
    "import matplotlib.pyplot as plt\n",
    "import tensorflow as tf\n",
    "# physical_devices = tf.config.experimental.list_physical_devices('GPU')\n",
    "# tf.config.experimental.set_memory_growth(physical_devices[0], True)\n",
    "\n",
    "tf.keras.backend.clear_session() \n",
    "\n",
    "from tensorflow import keras\n",
    "from tensorflow.keras.datasets import mnist\n",
    "from tensorflow.keras.models import Sequential\n",
    "from tensorflow.keras.layers import Dense, Dropout\n",
    "from tensorflow.keras.optimizers import RMSprop\n",
    "from tensorflow.keras.layers import LeakyReLU"
   ]
  },
  {
   "cell_type": "markdown",
   "metadata": {
    "collapsed": true
   },
   "source": [
    "## Model Architecture\n",
    "Let's build a very simple model on this example. It will consist on:\n",
    "- A dense layer with 512 units, relu activated\n",
    "- A dense layer with the number of classes as  the amount of units, softmax activated\n",
    "- Use RMSprop as the optimizer and categorical crossentropy as the loss function. Add accuracy to the metrics\n",
    "\n",
    "<font color=red><b> Build the model\n",
    "</font>"
   ]
  },
  {
   "cell_type": "code",
   "execution_count": 3,
   "metadata": {},
   "outputs": [
    {
     "name": "stdout",
     "output_type": "stream",
     "text": [
      "Model: \"sequential\"\n",
      "_________________________________________________________________\n",
      "Layer (type)                 Output Shape              Param #   \n",
      "=================================================================\n",
      "dense (Dense)                (None, 512)               401920    \n",
      "_________________________________________________________________\n",
      "dense_1 (Dense)              (None, 10)                5130      \n",
      "=================================================================\n",
      "Total params: 407,050\n",
      "Trainable params: 407,050\n",
      "Non-trainable params: 0\n",
      "_________________________________________________________________\n"
     ]
    }
   ],
   "source": [
    "num_classes = 10\n",
    "model = Sequential()\n",
    "model.add(Dense(512, activation='relu', input_shape=(784,)))\n",
    "model.add(Dense(num_classes, activation='softmax'))\n",
    "model.compile(loss='categorical_crossentropy',\n",
    "              optimizer=RMSprop(),\n",
    "              metrics=['accuracy'])\n",
    "\n",
    "model.summary()"
   ]
  },
  {
   "cell_type": "markdown",
   "metadata": {},
   "source": [
    "<font color=red><b> Train the model for 5 epochs and with a batch size of 128. Use the test data as validation and evaluate the model. Keep the information in a history variable\n",
    "</font>"
   ]
  },
  {
   "cell_type": "code",
   "execution_count": 4,
   "metadata": {},
   "outputs": [
    {
     "name": "stdout",
     "output_type": "stream",
     "text": [
      "Train on 60000 samples, validate on 10000 samples\n",
      "Epoch 1/5\n",
      "60000/60000 [==============================] - 3s 50us/sample - loss: 0.2555 - accuracy: 0.9268 - val_loss: 0.1262 - val_accuracy: 0.9612\n",
      "Epoch 2/5\n",
      "60000/60000 [==============================] - 3s 43us/sample - loss: 0.1050 - accuracy: 0.9680 - val_loss: 0.0929 - val_accuracy: 0.9710\n",
      "Epoch 3/5\n",
      "60000/60000 [==============================] - 3s 50us/sample - loss: 0.0684 - accuracy: 0.9793 - val_loss: 0.0747 - val_accuracy: 0.9764\n",
      "Epoch 4/5\n",
      "60000/60000 [==============================] - 3s 43us/sample - loss: 0.0501 - accuracy: 0.9848 - val_loss: 0.0661 - val_accuracy: 0.9803\n",
      "Epoch 5/5\n",
      "60000/60000 [==============================] - 3s 46us/sample - loss: 0.0373 - accuracy: 0.9893 - val_loss: 0.0667 - val_accuracy: 0.9790\n",
      "Test loss: 0.067\n",
      "Test accuracy: 0.979\n"
     ]
    }
   ],
   "source": [
    "batch_size = 128\n",
    "epochs = 5\n",
    "    \n",
    "history = model.fit(x_train, y_train,\n",
    "                    batch_size=batch_size,\n",
    "                    epochs=epochs,\n",
    "                    verbose=1,\n",
    "                    validation_data=(x_test, y_test))\n",
    "\n",
    "score = model.evaluate(x_test, y_test, verbose=100)\n",
    "\n",
    "print ('Test loss:', round(score[0], 3))\n",
    "print ('Test accuracy:', round(score[1], 3))\n"
   ]
  },
  {
   "cell_type": "markdown",
   "metadata": {},
   "source": [
    "Let's now plot the loss for both using matplotlib. Is it nice?"
   ]
  },
  {
   "cell_type": "code",
   "execution_count": 7,
   "metadata": {},
   "outputs": [
    {
     "data": {
      "text/plain": [
       "<matplotlib.legend.Legend at 0x7f93f0510f60>"
      ]
     },
     "execution_count": 7,
     "metadata": {},
     "output_type": "execute_result"
    },
    {
     "data": {
      "image/png": "[encoded data removed]",
      "text/plain": [
       "<Figure size 432x288 with 1 Axes>"
      ]
     },
     "metadata": {
      "needs_background": "light"
     },
     "output_type": "display_data"
    }
   ],
   "source": [
    "plt.plot(history.history['loss'])\n",
    "plt.plot(history.history['val_loss'])\n",
    "plt.title('model loss')\n",
    "plt.ylabel('loss')\n",
    "plt.xlabel('epoch')\n",
    "plt.legend(['train', 'test'], loc='upper left')"
   ]
  },
  {
   "cell_type": "markdown",
   "metadata": {},
   "source": [
    "# Build networks using all activations\n",
    "Now let's run the model with all the activations in the list and view the results in tensorboard\n",
    "\n",
    "\n",
    "<font color=red><b> Let's do precisely that!\n",
    "    <br> Hint: remember to add the tensorboard as a callback for the training.\n",
    "    <br> Hint2: use the function os.path.join to include the activation name on each model call\n",
    "    \n",
    "</font>"
   ]
  },
  {
   "cell_type": "code",
   "execution_count": 6,
   "metadata": {
    "scrolled": false
   },
   "outputs": [
    {
     "name": "stdout",
     "output_type": "stream",
     "text": [
      "Train on 60000 samples, validate on 10000 samples\n",
      "Epoch 1/20\n",
      "60000/60000 [==============================] - 3s 49us/sample - loss: 0.3829 - accuracy: 0.8866 - val_loss: 0.3203 - val_accuracy: 0.9056\n",
      "Epoch 2/20\n",
      "60000/60000 [==============================] - 2s 41us/sample - loss: 0.3094 - accuracy: 0.9136 - val_loss: 0.3023 - val_accuracy: 0.9161\n",
      "Epoch 3/20\n",
      "60000/60000 [==============================] - 2s 42us/sample - loss: 0.2959 - accuracy: 0.9173 - val_loss: 0.3059 - val_accuracy: 0.9137\n",
      "Epoch 4/20\n",
      "60000/60000 [==============================] - 2s 42us/sample - loss: 0.2874 - accuracy: 0.9201 - val_loss: 0.2831 - val_accuracy: 0.9246\n",
      "Epoch 5/20\n",
      "60000/60000 [==============================] - 3s 47us/sample - loss: 0.2829 - accuracy: 0.9214 - val_loss: 0.3154 - val_accuracy: 0.9123\n",
      "Epoch 6/20\n",
      "60000/60000 [==============================] - 3s 49us/sample - loss: 0.2782 - accuracy: 0.9227 - val_loss: 0.2835 - val_accuracy: 0.9207\n",
      "Epoch 7/20\n",
      "60000/60000 [==============================] - 3s 45us/sample - loss: 0.2756 - accuracy: 0.9223 - val_loss: 0.2880 - val_accuracy: 0.9204\n",
      "Epoch 8/20\n",
      "60000/60000 [==============================] - 3s 42us/sample - loss: 0.2734 - accuracy: 0.9245 - val_loss: 0.2928 - val_accuracy: 0.9202\n",
      "Epoch 9/20\n",
      "60000/60000 [==============================] - 3s 44us/sample - loss: 0.2710 - accuracy: 0.9259 - val_loss: 0.2921 - val_accuracy: 0.9232\n",
      "Epoch 10/20\n",
      "60000/60000 [==============================] - 3s 44us/sample - loss: 0.2686 - accuracy: 0.9251 - val_loss: 0.2876 - val_accuracy: 0.9227\n",
      "Epoch 11/20\n",
      "60000/60000 [==============================] - 3s 45us/sample - loss: 0.2672 - accuracy: 0.9254 - val_loss: 0.2856 - val_accuracy: 0.9242\n",
      "Epoch 12/20\n",
      "60000/60000 [==============================] - 3s 46us/sample - loss: 0.2648 - accuracy: 0.9263 - val_loss: 0.2914 - val_accuracy: 0.9236\n",
      "Epoch 13/20\n",
      "60000/60000 [==============================] - 3s 47us/sample - loss: 0.2652 - accuracy: 0.9251 - val_loss: 0.2862 - val_accuracy: 0.9240\n",
      "Epoch 14/20\n",
      "60000/60000 [==============================] - 3s 45us/sample - loss: 0.2626 - accuracy: 0.9273 - val_loss: 0.2949 - val_accuracy: 0.9214\n",
      "Epoch 15/20\n",
      "60000/60000 [==============================] - 3s 44us/sample - loss: 0.2619 - accuracy: 0.9269 - val_loss: 0.2873 - val_accuracy: 0.9216\n",
      "Epoch 16/20\n",
      "60000/60000 [==============================] - 3s 49us/sample - loss: 0.2605 - accuracy: 0.9274 - val_loss: 0.2795 - val_accuracy: 0.9240\n",
      "Epoch 17/20\n",
      "60000/60000 [==============================] - 3s 49us/sample - loss: 0.2601 - accuracy: 0.9284 - val_loss: 0.2887 - val_accuracy: 0.9210\n",
      "Epoch 18/20\n",
      "60000/60000 [==============================] - 3s 47us/sample - loss: 0.2585 - accuracy: 0.9281 - val_loss: 0.2920 - val_accuracy: 0.9213\n",
      "Epoch 19/20\n",
      "60000/60000 [==============================] - 3s 46us/sample - loss: 0.2594 - accuracy: 0.9285 - val_loss: 0.2871 - val_accuracy: 0.9232\n",
      "Epoch 20/20\n",
      "60000/60000 [==============================] - 3s 46us/sample - loss: 0.2566 - accuracy: 0.9289 - val_loss: 0.2844 - val_accuracy: 0.9254\n",
      "Train on 60000 samples, validate on 10000 samples\n",
      "Epoch 1/20\n",
      "60000/60000 [==============================] - 3s 54us/sample - loss: 0.4218 - accuracy: 0.8852 - val_loss: 0.2587 - val_accuracy: 0.9237\n",
      "Epoch 2/20\n",
      "60000/60000 [==============================] - 3s 48us/sample - loss: 0.2352 - accuracy: 0.9313 - val_loss: 0.1974 - val_accuracy: 0.9414\n",
      "Epoch 3/20\n",
      "60000/60000 [==============================] - 3s 47us/sample - loss: 0.1777 - accuracy: 0.9483 - val_loss: 0.1528 - val_accuracy: 0.9540\n",
      "Epoch 4/20\n",
      "60000/60000 [==============================] - 3s 50us/sample - loss: 0.1386 - accuracy: 0.9597 - val_loss: 0.1280 - val_accuracy: 0.9620\n",
      "Epoch 5/20\n",
      "60000/60000 [==============================] - 3s 50us/sample - loss: 0.1122 - accuracy: 0.9670 - val_loss: 0.1128 - val_accuracy: 0.9667\n",
      "Epoch 6/20\n",
      "60000/60000 [==============================] - 3s 50us/sample - loss: 0.0930 - accuracy: 0.9733 - val_loss: 0.1011 - val_accuracy: 0.9682\n",
      "Epoch 7/20\n",
      "60000/60000 [==============================] - 4s 67us/sample - loss: 0.0781 - accuracy: 0.9774 - val_loss: 0.0912 - val_accuracy: 0.9710\n",
      "Epoch 8/20\n",
      "60000/60000 [==============================] - 4s 68us/sample - loss: 0.0668 - accuracy: 0.9805 - val_loss: 0.0865 - val_accuracy: 0.9732\n",
      "Epoch 9/20\n",
      "60000/60000 [==============================] - 4s 72us/sample - loss: 0.0569 - accuracy: 0.9833 - val_loss: 0.0778 - val_accuracy: 0.9766\n",
      "Epoch 10/20\n",
      "60000/60000 [==============================] - 4s 72us/sample - loss: 0.0494 - accuracy: 0.9857 - val_loss: 0.0718 - val_accuracy: 0.9783\n",
      "Epoch 11/20\n",
      "60000/60000 [==============================] - 4s 65us/sample - loss: 0.0430 - accuracy: 0.9873 - val_loss: 0.0706 - val_accuracy: 0.9775\n",
      "Epoch 12/20\n",
      "60000/60000 [==============================] - 4s 60us/sample - loss: 0.0375 - accuracy: 0.9890 - val_loss: 0.0683 - val_accuracy: 0.9799\n",
      "Epoch 13/20\n",
      "60000/60000 [==============================] - 5s 76us/sample - loss: 0.0327 - accuracy: 0.9910 - val_loss: 0.0673 - val_accuracy: 0.9796\n",
      "Epoch 14/20\n",
      "60000/60000 [==============================] - 3s 55us/sample - loss: 0.0288 - accuracy: 0.9919 - val_loss: 0.0634 - val_accuracy: 0.9813\n",
      "Epoch 15/20\n",
      "60000/60000 [==============================] - 4s 58us/sample - loss: 0.0249 - accuracy: 0.9935 - val_loss: 0.0619 - val_accuracy: 0.9808\n",
      "Epoch 16/20\n",
      "60000/60000 [==============================] - 3s 51us/sample - loss: 0.0215 - accuracy: 0.9947 - val_loss: 0.0622 - val_accuracy: 0.9816\n",
      "Epoch 17/20\n",
      "60000/60000 [==============================] - 3s 49us/sample - loss: 0.0190 - accuracy: 0.9953 - val_loss: 0.0627 - val_accuracy: 0.9818\n",
      "Epoch 18/20\n",
      "60000/60000 [==============================] - 3s 51us/sample - loss: 0.0163 - accuracy: 0.9962 - val_loss: 0.0647 - val_accuracy: 0.9810\n",
      "Epoch 19/20\n",
      "60000/60000 [==============================] - 3s 52us/sample - loss: 0.0143 - accuracy: 0.9968 - val_loss: 0.0659 - val_accuracy: 0.9810\n",
      "Epoch 20/20\n",
      "60000/60000 [==============================] - 3s 49us/sample - loss: 0.0123 - accuracy: 0.9973 - val_loss: 0.0653 - val_accuracy: 0.9805\n",
      "Train on 60000 samples, validate on 10000 samples\n",
      "Epoch 1/20\n",
      "60000/60000 [==============================] - 3s 58us/sample - loss: 0.3361 - accuracy: 0.9004 - val_loss: 0.2378 - val_accuracy: 0.9290\n",
      "Epoch 2/20\n",
      "60000/60000 [==============================] - 3s 49us/sample - loss: 0.1752 - accuracy: 0.9488 - val_loss: 0.1313 - val_accuracy: 0.9614\n",
      "Epoch 3/20\n",
      "60000/60000 [==============================] - 3s 49us/sample - loss: 0.1164 - accuracy: 0.9655 - val_loss: 0.1088 - val_accuracy: 0.9682\n",
      "Epoch 4/20\n",
      "60000/60000 [==============================] - 3s 49us/sample - loss: 0.0853 - accuracy: 0.9745 - val_loss: 0.0857 - val_accuracy: 0.9739\n",
      "Epoch 5/20\n",
      "60000/60000 [==============================] - 3s 49us/sample - loss: 0.0655 - accuracy: 0.9807 - val_loss: 0.0791 - val_accuracy: 0.9764\n",
      "Epoch 6/20\n",
      "60000/60000 [==============================] - 3s 49us/sample - loss: 0.0510 - accuracy: 0.9845 - val_loss: 0.0710 - val_accuracy: 0.9787\n",
      "Epoch 7/20\n",
      "60000/60000 [==============================] - 3s 50us/sample - loss: 0.0402 - accuracy: 0.9882 - val_loss: 0.0731 - val_accuracy: 0.9780\n",
      "Epoch 8/20\n",
      "60000/60000 [==============================] - 3s 50us/sample - loss: 0.0317 - accuracy: 0.9904 - val_loss: 0.0689 - val_accuracy: 0.9789\n",
      "Epoch 9/20\n",
      "60000/60000 [==============================] - 3s 51us/sample - loss: 0.0251 - accuracy: 0.9930 - val_loss: 0.0670 - val_accuracy: 0.9780\n",
      "Epoch 10/20\n",
      "60000/60000 [==============================] - 3s 49us/sample - loss: 0.0198 - accuracy: 0.9944 - val_loss: 0.0612 - val_accuracy: 0.9817\n",
      "Epoch 11/20\n",
      "60000/60000 [==============================] - 3s 53us/sample - loss: 0.0154 - accuracy: 0.9963 - val_loss: 0.0638 - val_accuracy: 0.9806\n",
      "Epoch 12/20\n",
      "60000/60000 [==============================] - 3s 50us/sample - loss: 0.0122 - accuracy: 0.9969 - val_loss: 0.0608 - val_accuracy: 0.9828\n",
      "Epoch 13/20\n",
      "60000/60000 [==============================] - 3s 51us/sample - loss: 0.0095 - accuracy: 0.9977 - val_loss: 0.0677 - val_accuracy: 0.9805\n",
      "Epoch 14/20\n",
      "60000/60000 [==============================] - 3s 49us/sample - loss: 0.0074 - accuracy: 0.9985 - val_loss: 0.0642 - val_accuracy: 0.9825\n"
     ]
    },
    {
     "name": "stdout",
     "output_type": "stream",
     "text": [
      "Epoch 15/20\n",
      "60000/60000 [==============================] - 3s 47us/sample - loss: 0.0055 - accuracy: 0.9989 - val_loss: 0.0740 - val_accuracy: 0.9811\n",
      "Epoch 16/20\n",
      "60000/60000 [==============================] - 3s 49us/sample - loss: 0.0046 - accuracy: 0.9991 - val_loss: 0.0630 - val_accuracy: 0.9824\n",
      "Epoch 17/20\n",
      "60000/60000 [==============================] - 3s 46us/sample - loss: 0.0032 - accuracy: 0.9993 - val_loss: 0.0692 - val_accuracy: 0.9821\n",
      "Epoch 18/20\n",
      "60000/60000 [==============================] - 3s 49us/sample - loss: 0.0028 - accuracy: 0.9993 - val_loss: 0.0728 - val_accuracy: 0.9814\n",
      "Epoch 19/20\n",
      "60000/60000 [==============================] - 3s 47us/sample - loss: 0.0020 - accuracy: 0.9995 - val_loss: 0.0734 - val_accuracy: 0.9819\n",
      "Epoch 20/20\n",
      "60000/60000 [==============================] - 3s 46us/sample - loss: 0.0016 - accuracy: 0.9996 - val_loss: 0.0699 - val_accuracy: 0.9831\n",
      "Train on 60000 samples, validate on 10000 samples\n",
      "Epoch 1/20\n",
      "60000/60000 [==============================] - 3s 54us/sample - loss: 0.2550 - accuracy: 0.9263 - val_loss: 0.1285 - val_accuracy: 0.9611\n",
      "Epoch 2/20\n",
      "60000/60000 [==============================] - 3s 47us/sample - loss: 0.1029 - accuracy: 0.9694 - val_loss: 0.1011 - val_accuracy: 0.9692\n",
      "Epoch 3/20\n",
      "60000/60000 [==============================] - 3s 47us/sample - loss: 0.0678 - accuracy: 0.9798 - val_loss: 0.0817 - val_accuracy: 0.9750\n",
      "Epoch 4/20\n",
      "60000/60000 [==============================] - 3s 46us/sample - loss: 0.0492 - accuracy: 0.9849 - val_loss: 0.0701 - val_accuracy: 0.9785\n",
      "Epoch 5/20\n",
      "60000/60000 [==============================] - 3s 49us/sample - loss: 0.0362 - accuracy: 0.9893 - val_loss: 0.0626 - val_accuracy: 0.9824\n",
      "Epoch 6/20\n",
      "60000/60000 [==============================] - 3s 50us/sample - loss: 0.0279 - accuracy: 0.9916 - val_loss: 0.0685 - val_accuracy: 0.9784\n",
      "Epoch 7/20\n",
      "60000/60000 [==============================] - 3s 50us/sample - loss: 0.0214 - accuracy: 0.9936 - val_loss: 0.0647 - val_accuracy: 0.9808\n",
      "Epoch 8/20\n",
      "60000/60000 [==============================] - 3s 51us/sample - loss: 0.0163 - accuracy: 0.9954 - val_loss: 0.0697 - val_accuracy: 0.9792\n",
      "Epoch 9/20\n",
      "60000/60000 [==============================] - 3s 52us/sample - loss: 0.0129 - accuracy: 0.9962 - val_loss: 0.0689 - val_accuracy: 0.9813\n",
      "Epoch 10/20\n",
      "60000/60000 [==============================] - 3s 47us/sample - loss: 0.0094 - accuracy: 0.9975 - val_loss: 0.0667 - val_accuracy: 0.9819\n",
      "Epoch 11/20\n",
      "60000/60000 [==============================] - 3s 46us/sample - loss: 0.0075 - accuracy: 0.9979 - val_loss: 0.0766 - val_accuracy: 0.9809\n",
      "Epoch 12/20\n",
      "60000/60000 [==============================] - 3s 46us/sample - loss: 0.0056 - accuracy: 0.9987 - val_loss: 0.0740 - val_accuracy: 0.9813\n",
      "Epoch 13/20\n",
      "60000/60000 [==============================] - 3s 46us/sample - loss: 0.0050 - accuracy: 0.9986 - val_loss: 0.0775 - val_accuracy: 0.9820\n",
      "Epoch 14/20\n",
      "60000/60000 [==============================] - 3s 46us/sample - loss: 0.0035 - accuracy: 0.9991 - val_loss: 0.0820 - val_accuracy: 0.9809\n",
      "Epoch 15/20\n",
      "60000/60000 [==============================] - 3s 46us/sample - loss: 0.0025 - accuracy: 0.9994 - val_loss: 0.0847 - val_accuracy: 0.9818\n",
      "Epoch 16/20\n",
      "60000/60000 [==============================] - 3s 46us/sample - loss: 0.0025 - accuracy: 0.9994 - val_loss: 0.0839 - val_accuracy: 0.9813\n",
      "Epoch 17/20\n",
      "60000/60000 [==============================] - 3s 48us/sample - loss: 0.0016 - accuracy: 0.9996 - val_loss: 0.0833 - val_accuracy: 0.9824\n",
      "Epoch 18/20\n",
      "60000/60000 [==============================] - 3s 47us/sample - loss: 0.0014 - accuracy: 0.9996 - val_loss: 0.0997 - val_accuracy: 0.9790\n",
      "Epoch 19/20\n",
      "60000/60000 [==============================] - 3s 46us/sample - loss: 0.0011 - accuracy: 0.9997 - val_loss: 0.0918 - val_accuracy: 0.9815\n",
      "Epoch 20/20\n",
      "60000/60000 [==============================] - 3s 46us/sample - loss: 0.0010 - accuracy: 0.9997 - val_loss: 0.0962 - val_accuracy: 0.9825\n"
     ]
    }
   ],
   "source": [
    "from tensorflow.keras.callbacks import TensorBoard\n",
    "epochs = 20\n",
    "log_path = '/home/fer/data/formaciones/afi/tensorboard_log/activations_experiment2'\n",
    "for activation in [None, 'sigmoid', 'tanh', 'relu']:\n",
    "    # build and compile the model\n",
    "    model = Sequential()\n",
    "    model.add(Dense(512, activation=activation, input_shape=(784,)))\n",
    "    model.add(Dense(num_classes, activation='softmax'))\n",
    "    model.compile(loss='categorical_crossentropy',\n",
    "              optimizer=RMSprop(),\n",
    "              metrics=['accuracy'])\n",
    "    \n",
    "    tensorboard = TensorBoard(os.path.join(log_path,f'{activation}_{time.time()}'))\n",
    "    # fit the model, adding the tensorboard to the callbacks\n",
    "    model.fit(x_train, y_train,\n",
    "                    batch_size=batch_size,\n",
    "                    epochs=epochs,\n",
    "                    verbose=1,\n",
    "                    validation_data=(x_test, y_test),\n",
    "                    callbacks=[tensorboard])"
   ]
  },
  {
   "cell_type": "code",
   "execution_count": null,
   "metadata": {},
   "outputs": [],
   "source": []
  },
  {
   "cell_type": "code",
   "execution_count": null,
   "metadata": {},
   "outputs": [],
   "source": []
  }
 ],
 "metadata": {
  "kernelspec": {
   "display_name": "dl_tf2",
   "language": "python",
   "name": "dl_tf2"
  },
  "language_info": {
   "codemirror_mode": {
    "name": "ipython",
    "version": 3
   },
   "file_extension": ".py",
   "mimetype": "text/x-python",
   "name": "python",
   "nbconvert_exporter": "python",
   "pygments_lexer": "ipython3",
   "version": "3.6.9"
  }
 },
 "nbformat": 4,
 "nbformat_minor": 2
}
