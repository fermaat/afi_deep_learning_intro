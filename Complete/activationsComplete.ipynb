{
 "cells": [
  {
   "cell_type": "markdown",
   "metadata": {},
   "source": [
    "# Activation functions\n",
    "\n",
    "On this notebook we will take a look at some of the different activation functions present in keras backend and will compare them.\n",
    "\n",
    "## The data\n",
    "We will use our old friend MNIST for its simplicity. \n",
    "\n",
    "<font color=red><b>Load the dataset and preprocess it. \n",
    "</font>"
   ]
  },
  {
   "cell_type": "code",
   "execution_count": 1,
   "metadata": {},
   "outputs": [
    {
     "name": "stdout",
     "output_type": "stream",
     "text": [
      "x_train shape: (60000, 784)\n",
      "60000 train samples\n",
      "10000 test samples\n"
     ]
    }
   ],
   "source": [
    "import os, time\n",
    "import tensorflow as tf\n",
    "physical_devices = tf.config.experimental.list_physical_devices('GPU')\n",
    "tf.config.experimental.set_memory_growth(physical_devices[0], True)\n",
    "\n",
    "tf.keras.backend.clear_session() \n",
    "from tensorflow.keras.datasets import mnist\n",
    "from tensorflow.keras.utils import to_categorical\n",
    "\n",
    "# the data, split between train and test sets\n",
    "(x_train, y_train), (x_test, y_test) = mnist.load_data()\n",
    "\n",
    "x_train = x_train.astype('float32')\n",
    "x_test = x_test.astype('float32')\n",
    "x_train /= 255\n",
    "x_test /= 255\n",
    "\n",
    "x_train = x_train.reshape(x_train.shape[0], x_train.shape[1]*x_train.shape[2])\n",
    "x_test = x_test.reshape(x_test.shape[0], x_test.shape[1]*x_test.shape[2])\n",
    "\n",
    "\n",
    "\n",
    "y_train = to_categorical(y_train)\n",
    "y_test = to_categorical(y_test)\n",
    "\n",
    "\n",
    "print('x_train shape:', x_train.shape)\n",
    "print(x_train.shape[0], 'train samples')\n",
    "print(x_test.shape[0], 'test samples')"
   ]
  },
  {
   "cell_type": "code",
   "execution_count": 2,
   "metadata": {},
   "outputs": [],
   "source": [
    "%matplotlib inline\n",
    "import matplotlib.pyplot as plt\n",
    "import tensorflow as tf\n",
    "physical_devices = tf.config.experimental.list_physical_devices('GPU')\n",
    "tf.config.experimental.set_memory_growth(physical_devices[0], True)\n",
    "\n",
    "tf.keras.backend.clear_session() \n",
    "\n",
    "from tensorflow import keras\n",
    "from tensorflow.keras.datasets import mnist\n",
    "from tensorflow.keras.models import Sequential\n",
    "from tensorflow.keras.layers import Dense, Dropout\n",
    "from tensorflow.keras.optimizers import RMSprop\n",
    "from tensorflow.keras.layers import LeakyReLU"
   ]
  },
  {
   "cell_type": "markdown",
   "metadata": {
    "collapsed": true
   },
   "source": [
    "## Model Architecture\n",
    "Let's build a very simple model on this example. It will consist on:\n",
    "- A dense layer with 512 units, relu activated\n",
    "- A dense layer with the number of classes as  the amount of units, softmax activated\n",
    "- Use RMSprop as the optimizer and categorical crossentropy as the loss function. Add accuracy to the metrics\n",
    "\n",
    "<font color=red><b> Build the model\n",
    "</font>"
   ]
  },
  {
   "cell_type": "code",
   "execution_count": 3,
   "metadata": {},
   "outputs": [
    {
     "name": "stdout",
     "output_type": "stream",
     "text": [
      "Model: \"sequential\"\n",
      "_________________________________________________________________\n",
      "Layer (type)                 Output Shape              Param #   \n",
      "=================================================================\n",
      "dense (Dense)                (None, 512)               401920    \n",
      "_________________________________________________________________\n",
      "dense_1 (Dense)              (None, 10)                5130      \n",
      "=================================================================\n",
      "Total params: 407,050\n",
      "Trainable params: 407,050\n",
      "Non-trainable params: 0\n",
      "_________________________________________________________________\n"
     ]
    }
   ],
   "source": [
    "num_classes = 10\n",
    "model = Sequential()\n",
    "model.add(Dense(512, activation='relu', input_shape=(784,)))\n",
    "model.add(Dense(num_classes, activation='softmax'))\n",
    "model.compile(loss='categorical_crossentropy',\n",
    "              optimizer=RMSprop(),\n",
    "              metrics=['accuracy'])\n",
    "\n",
    "model.summary()"
   ]
  },
  {
   "cell_type": "markdown",
   "metadata": {},
   "source": [
    "<font color=red><b> Train the model for 5 epochs and with a batch size of 128. Use the test data as validation and evaluate the model. Keep the information in a history variable\n",
    "</font>"
   ]
  },
  {
   "cell_type": "code",
   "execution_count": 4,
   "metadata": {},
   "outputs": [
    {
     "name": "stdout",
     "output_type": "stream",
     "text": [
      "Train on 60000 samples, validate on 10000 samples\n",
      "Epoch 1/5\n",
      "60000/60000 [==============================] - 2s 30us/sample - loss: 0.2612 - accuracy: 0.9243 - val_loss: 0.1304 - val_accuracy: 0.9604\n",
      "Epoch 2/5\n",
      "60000/60000 [==============================] - 1s 18us/sample - loss: 0.1054 - accuracy: 0.9691 - val_loss: 0.0856 - val_accuracy: 0.9743\n",
      "Epoch 3/5\n",
      "60000/60000 [==============================] - 1s 19us/sample - loss: 0.0694 - accuracy: 0.9792 - val_loss: 0.0755 - val_accuracy: 0.9762\n",
      "Epoch 4/5\n",
      "60000/60000 [==============================] - 1s 19us/sample - loss: 0.0503 - accuracy: 0.9850 - val_loss: 0.0657 - val_accuracy: 0.9811\n",
      "Epoch 5/5\n",
      "60000/60000 [==============================] - 1s 18us/sample - loss: 0.0377 - accuracy: 0.9886 - val_loss: 0.0924 - val_accuracy: 0.9729\n",
      "Test loss: 0.092\n",
      "Test accuracy: 0.973\n"
     ]
    }
   ],
   "source": [
    "batch_size = 128\n",
    "epochs = 5\n",
    "    \n",
    "history = model.fit(x_train, y_train,\n",
    "                    batch_size=batch_size,\n",
    "                    epochs=epochs,\n",
    "                    verbose=1,\n",
    "                    validation_data=(x_test, y_test))\n",
    "\n",
    "score = model.evaluate(x_test, y_test, verbose=100)\n",
    "\n",
    "print ('Test loss:', round(score[0], 3))\n",
    "print ('Test accuracy:', round(score[1], 3))\n"
   ]
  },
  {
   "cell_type": "markdown",
   "metadata": {},
   "source": [
    "Let's now plot the loss for both using matplotlib. Is it nice?"
   ]
  },
  {
   "cell_type": "code",
   "execution_count": 5,
   "metadata": {},
   "outputs": [
    {
     "data": {
      "text/plain": [
       "<matplotlib.legend.Legend at 0x7fba214c7080>"
      ]
     },
     "execution_count": 5,
     "metadata": {},
     "output_type": "execute_result"
    },
    {
     "data": {
      "image/png": "[encoded data removed]",
      "text/plain": [
       "<Figure size 432x288 with 1 Axes>"
      ]
     },
     "metadata": {
      "needs_background": "light"
     },
     "output_type": "display_data"
    }
   ],
   "source": [
    "plt.plot(history.history['loss'])\n",
    "plt.plot(history.history['val_loss'])\n",
    "plt.title('model loss')\n",
    "plt.ylabel('loss')\n",
    "plt.xlabel('epoch')\n",
    "plt.legend(['train', 'test'], loc='upper left')"
   ]
  },
  {
   "cell_type": "markdown",
   "metadata": {},
   "source": [
    "# Build networks using all activations\n",
    "Now let's run the model with all the activations in the list and view the results in tensorboard\n",
    "\n",
    "\n",
    "<font color=red><b> Let's do precisely that!\n",
    "    <br> Hint: remember to add the tensorboard as a callback for the training.\n",
    "    <br> Hint2: use the function os.path.join to include the activation name on each model call\n",
    "    \n",
    "</font>"
   ]
  },
  {
   "cell_type": "code",
   "execution_count": 7,
   "metadata": {
    "scrolled": false
   },
   "outputs": [
    {
     "name": "stdout",
     "output_type": "stream",
     "text": [
      "Train on 60000 samples, validate on 10000 samples\n",
      "Epoch 1/20\n",
      "60000/60000 [==============================] - 2s 27us/sample - loss: 0.3832 - accuracy: 0.8899 - val_loss: 0.3396 - val_accuracy: 0.9000\n",
      "Epoch 2/20\n",
      "60000/60000 [==============================] - 1s 19us/sample - loss: 0.3086 - accuracy: 0.9131 - val_loss: 0.3294 - val_accuracy: 0.9027\n",
      "Epoch 3/20\n",
      "60000/60000 [==============================] - 1s 19us/sample - loss: 0.2976 - accuracy: 0.9173 - val_loss: 0.2858 - val_accuracy: 0.9195\n",
      "Epoch 4/20\n",
      "60000/60000 [==============================] - 1s 19us/sample - loss: 0.2893 - accuracy: 0.9197 - val_loss: 0.3217 - val_accuracy: 0.9109\n",
      "Epoch 5/20\n",
      "60000/60000 [==============================] - 1s 19us/sample - loss: 0.2825 - accuracy: 0.9215 - val_loss: 0.2789 - val_accuracy: 0.9210\n",
      "Epoch 6/20\n",
      "60000/60000 [==============================] - 1s 18us/sample - loss: 0.2798 - accuracy: 0.9217 - val_loss: 0.2977 - val_accuracy: 0.9140\n",
      "Epoch 7/20\n",
      "60000/60000 [==============================] - 1s 18us/sample - loss: 0.2765 - accuracy: 0.9229 - val_loss: 0.2956 - val_accuracy: 0.9183\n",
      "Epoch 8/20\n",
      "60000/60000 [==============================] - 1s 18us/sample - loss: 0.2730 - accuracy: 0.9244 - val_loss: 0.2939 - val_accuracy: 0.9195\n",
      "Epoch 9/20\n",
      "60000/60000 [==============================] - 1s 18us/sample - loss: 0.2710 - accuracy: 0.9249 - val_loss: 0.2859 - val_accuracy: 0.9219\n",
      "Epoch 10/20\n",
      "60000/60000 [==============================] - 1s 18us/sample - loss: 0.2687 - accuracy: 0.9248 - val_loss: 0.2860 - val_accuracy: 0.9208\n",
      "Epoch 11/20\n",
      "60000/60000 [==============================] - 1s 18us/sample - loss: 0.2680 - accuracy: 0.9261 - val_loss: 0.2833 - val_accuracy: 0.9231\n",
      "Epoch 12/20\n",
      "60000/60000 [==============================] - 1s 19us/sample - loss: 0.2645 - accuracy: 0.9267 - val_loss: 0.2836 - val_accuracy: 0.9227\n",
      "Epoch 13/20\n",
      "60000/60000 [==============================] - 1s 20us/sample - loss: 0.2644 - accuracy: 0.9265 - val_loss: 0.2879 - val_accuracy: 0.9204\n",
      "Epoch 14/20\n",
      "60000/60000 [==============================] - 1s 18us/sample - loss: 0.2641 - accuracy: 0.9264 - val_loss: 0.2816 - val_accuracy: 0.9241\n",
      "Epoch 15/20\n",
      "60000/60000 [==============================] - 1s 19us/sample - loss: 0.2627 - accuracy: 0.9270 - val_loss: 0.2903 - val_accuracy: 0.9222\n",
      "Epoch 16/20\n",
      "60000/60000 [==============================] - 1s 18us/sample - loss: 0.2613 - accuracy: 0.9276 - val_loss: 0.2842 - val_accuracy: 0.9228\n",
      "Epoch 17/20\n",
      "60000/60000 [==============================] - 1s 18us/sample - loss: 0.2604 - accuracy: 0.9278 - val_loss: 0.2918 - val_accuracy: 0.9198\n",
      "Epoch 18/20\n",
      "60000/60000 [==============================] - 1s 18us/sample - loss: 0.2594 - accuracy: 0.9273 - val_loss: 0.2838 - val_accuracy: 0.9213\n",
      "Epoch 19/20\n",
      "60000/60000 [==============================] - 1s 18us/sample - loss: 0.2583 - accuracy: 0.9279 - val_loss: 0.2898 - val_accuracy: 0.9219\n",
      "Epoch 20/20\n",
      "60000/60000 [==============================] - 1s 18us/sample - loss: 0.2573 - accuracy: 0.9291 - val_loss: 0.2839 - val_accuracy: 0.9225\n",
      "Train on 60000 samples, validate on 10000 samples\n",
      "Epoch 1/20\n",
      "60000/60000 [==============================] - 1s 24us/sample - loss: 0.4289 - accuracy: 0.8845 - val_loss: 0.2631 - val_accuracy: 0.9241\n",
      "Epoch 2/20\n",
      "60000/60000 [==============================] - 1s 18us/sample - loss: 0.2332 - accuracy: 0.9320 - val_loss: 0.1992 - val_accuracy: 0.9415\n",
      "Epoch 3/20\n",
      "60000/60000 [==============================] - 1s 19us/sample - loss: 0.1765 - accuracy: 0.9483 - val_loss: 0.1576 - val_accuracy: 0.9530\n",
      "Epoch 4/20\n",
      "60000/60000 [==============================] - 1s 19us/sample - loss: 0.1385 - accuracy: 0.9595 - val_loss: 0.1352 - val_accuracy: 0.9597\n",
      "Epoch 5/20\n",
      "60000/60000 [==============================] - 1s 19us/sample - loss: 0.1122 - accuracy: 0.9676 - val_loss: 0.1188 - val_accuracy: 0.9653\n",
      "Epoch 6/20\n",
      "60000/60000 [==============================] - 1s 19us/sample - loss: 0.0928 - accuracy: 0.9732 - val_loss: 0.1019 - val_accuracy: 0.9694\n",
      "Epoch 7/20\n",
      "60000/60000 [==============================] - 1s 20us/sample - loss: 0.0779 - accuracy: 0.9772 - val_loss: 0.0910 - val_accuracy: 0.9729\n",
      "Epoch 8/20\n",
      "60000/60000 [==============================] - 1s 20us/sample - loss: 0.0670 - accuracy: 0.9808 - val_loss: 0.0880 - val_accuracy: 0.9735\n",
      "Epoch 9/20\n",
      "60000/60000 [==============================] - 1s 20us/sample - loss: 0.0577 - accuracy: 0.9833 - val_loss: 0.0784 - val_accuracy: 0.9755\n",
      "Epoch 10/20\n",
      "60000/60000 [==============================] - 1s 20us/sample - loss: 0.0499 - accuracy: 0.9855 - val_loss: 0.0801 - val_accuracy: 0.9762\n",
      "Epoch 11/20\n",
      "60000/60000 [==============================] - 1s 20us/sample - loss: 0.0438 - accuracy: 0.9873 - val_loss: 0.0714 - val_accuracy: 0.9784\n",
      "Epoch 12/20\n",
      "60000/60000 [==============================] - 1s 19us/sample - loss: 0.0381 - accuracy: 0.9890 - val_loss: 0.0685 - val_accuracy: 0.9789\n",
      "Epoch 13/20\n",
      "60000/60000 [==============================] - 1s 20us/sample - loss: 0.0329 - accuracy: 0.9912 - val_loss: 0.0719 - val_accuracy: 0.9782\n",
      "Epoch 14/20\n",
      "60000/60000 [==============================] - 1s 20us/sample - loss: 0.0288 - accuracy: 0.9921 - val_loss: 0.0675 - val_accuracy: 0.9798\n",
      "Epoch 15/20\n",
      "60000/60000 [==============================] - 1s 20us/sample - loss: 0.0250 - accuracy: 0.9936 - val_loss: 0.0647 - val_accuracy: 0.9810\n",
      "Epoch 16/20\n",
      "60000/60000 [==============================] - 1s 20us/sample - loss: 0.0220 - accuracy: 0.9943 - val_loss: 0.0715 - val_accuracy: 0.9794\n",
      "Epoch 17/20\n",
      "60000/60000 [==============================] - 1s 20us/sample - loss: 0.0191 - accuracy: 0.9952 - val_loss: 0.0636 - val_accuracy: 0.9818\n",
      "Epoch 18/20\n",
      "60000/60000 [==============================] - 1s 19us/sample - loss: 0.0168 - accuracy: 0.9958 - val_loss: 0.0666 - val_accuracy: 0.9816\n",
      "Epoch 19/20\n",
      "60000/60000 [==============================] - 1s 20us/sample - loss: 0.0143 - accuracy: 0.9967 - val_loss: 0.0647 - val_accuracy: 0.9820\n",
      "Epoch 20/20\n",
      "60000/60000 [==============================] - 1s 21us/sample - loss: 0.0123 - accuracy: 0.9973 - val_loss: 0.0662 - val_accuracy: 0.9809\n",
      "Train on 60000 samples, validate on 10000 samples\n",
      "Epoch 1/20\n",
      "60000/60000 [==============================] - 2s 26us/sample - loss: 0.3320 - accuracy: 0.9023 - val_loss: 0.2007 - val_accuracy: 0.9439\n",
      "Epoch 2/20\n",
      "60000/60000 [==============================] - 1s 21us/sample - loss: 0.1744 - accuracy: 0.9494 - val_loss: 0.1404 - val_accuracy: 0.9586\n",
      "Epoch 3/20\n",
      "60000/60000 [==============================] - 1s 21us/sample - loss: 0.1162 - accuracy: 0.9654 - val_loss: 0.1134 - val_accuracy: 0.9656\n",
      "Epoch 4/20\n",
      "60000/60000 [==============================] - 1s 20us/sample - loss: 0.0840 - accuracy: 0.9751 - val_loss: 0.0898 - val_accuracy: 0.9729\n",
      "Epoch 5/20\n",
      "60000/60000 [==============================] - 1s 20us/sample - loss: 0.0644 - accuracy: 0.9807 - val_loss: 0.0841 - val_accuracy: 0.9741\n",
      "Epoch 6/20\n",
      "60000/60000 [==============================] - 1s 20us/sample - loss: 0.0508 - accuracy: 0.9851 - val_loss: 0.0723 - val_accuracy: 0.9784\n",
      "Epoch 7/20\n",
      "60000/60000 [==============================] - 1s 21us/sample - loss: 0.0405 - accuracy: 0.9881 - val_loss: 0.0673 - val_accuracy: 0.9791\n",
      "Epoch 8/20\n",
      "60000/60000 [==============================] - 1s 22us/sample - loss: 0.0315 - accuracy: 0.9909 - val_loss: 0.0683 - val_accuracy: 0.9794\n",
      "Epoch 9/20\n",
      "60000/60000 [==============================] - 1s 21us/sample - loss: 0.0255 - accuracy: 0.9929 - val_loss: 0.0633 - val_accuracy: 0.9796\n",
      "Epoch 10/20\n",
      "60000/60000 [==============================] - 1s 20us/sample - loss: 0.0201 - accuracy: 0.9947 - val_loss: 0.0684 - val_accuracy: 0.9789\n",
      "Epoch 11/20\n",
      "60000/60000 [==============================] - 1s 21us/sample - loss: 0.0156 - accuracy: 0.9959 - val_loss: 0.0565 - val_accuracy: 0.9829\n",
      "Epoch 12/20\n",
      "60000/60000 [==============================] - 1s 22us/sample - loss: 0.0123 - accuracy: 0.9969 - val_loss: 0.0631 - val_accuracy: 0.9806\n",
      "Epoch 13/20\n",
      "60000/60000 [==============================] - 1s 23us/sample - loss: 0.0099 - accuracy: 0.9977 - val_loss: 0.0633 - val_accuracy: 0.9809\n",
      "Epoch 14/20\n",
      "60000/60000 [==============================] - 1s 24us/sample - loss: 0.0080 - accuracy: 0.9982 - val_loss: 0.0612 - val_accuracy: 0.9822\n"
     ]
    },
    {
     "name": "stdout",
     "output_type": "stream",
     "text": [
      "Epoch 15/20\n",
      "60000/60000 [==============================] - 1s 20us/sample - loss: 0.0059 - accuracy: 0.9989 - val_loss: 0.0570 - val_accuracy: 0.9848\n",
      "Epoch 16/20\n",
      "60000/60000 [==============================] - 1s 19us/sample - loss: 0.0047 - accuracy: 0.9990 - val_loss: 0.0721 - val_accuracy: 0.9806\n",
      "Epoch 17/20\n",
      "60000/60000 [==============================] - 1s 20us/sample - loss: 0.0035 - accuracy: 0.9993 - val_loss: 0.0648 - val_accuracy: 0.9821\n",
      "Epoch 18/20\n",
      "60000/60000 [==============================] - 1s 22us/sample - loss: 0.0028 - accuracy: 0.9994 - val_loss: 0.0684 - val_accuracy: 0.9812\n",
      "Epoch 19/20\n",
      "60000/60000 [==============================] - 1s 23us/sample - loss: 0.0023 - accuracy: 0.9994 - val_loss: 0.0673 - val_accuracy: 0.9826\n",
      "Epoch 20/20\n",
      "60000/60000 [==============================] - 1s 21us/sample - loss: 0.0015 - accuracy: 0.9997 - val_loss: 0.0644 - val_accuracy: 0.9828\n",
      "Train on 60000 samples, validate on 10000 samples\n",
      "Epoch 1/20\n",
      "60000/60000 [==============================] - 2s 25us/sample - loss: 0.2606 - accuracy: 0.9239 - val_loss: 0.1192 - val_accuracy: 0.9632\n",
      "Epoch 2/20\n",
      "60000/60000 [==============================] - 1s 19us/sample - loss: 0.1040 - accuracy: 0.9691 - val_loss: 0.0919 - val_accuracy: 0.9727\n",
      "Epoch 3/20\n",
      "60000/60000 [==============================] - 1s 22us/sample - loss: 0.0685 - accuracy: 0.9796 - val_loss: 0.0824 - val_accuracy: 0.9756\n",
      "Epoch 4/20\n",
      "60000/60000 [==============================] - 1s 20us/sample - loss: 0.0492 - accuracy: 0.9849 - val_loss: 0.0741 - val_accuracy: 0.9775\n",
      "Epoch 5/20\n",
      "60000/60000 [==============================] - 1s 20us/sample - loss: 0.0375 - accuracy: 0.9884 - val_loss: 0.0819 - val_accuracy: 0.9767\n",
      "Epoch 6/20\n",
      "60000/60000 [==============================] - 1s 21us/sample - loss: 0.0287 - accuracy: 0.9915 - val_loss: 0.0653 - val_accuracy: 0.9800\n",
      "Epoch 7/20\n",
      "60000/60000 [==============================] - 1s 21us/sample - loss: 0.0220 - accuracy: 0.9936 - val_loss: 0.0723 - val_accuracy: 0.9808\n",
      "Epoch 8/20\n",
      "60000/60000 [==============================] - 1s 22us/sample - loss: 0.0168 - accuracy: 0.9954 - val_loss: 0.0716 - val_accuracy: 0.9797\n",
      "Epoch 9/20\n",
      "60000/60000 [==============================] - 1s 20us/sample - loss: 0.0133 - accuracy: 0.9962 - val_loss: 0.0794 - val_accuracy: 0.9782\n",
      "Epoch 10/20\n",
      "60000/60000 [==============================] - 1s 19us/sample - loss: 0.0100 - accuracy: 0.9971 - val_loss: 0.0686 - val_accuracy: 0.9831\n",
      "Epoch 11/20\n",
      "60000/60000 [==============================] - 1s 19us/sample - loss: 0.0079 - accuracy: 0.9979 - val_loss: 0.0765 - val_accuracy: 0.9811\n",
      "Epoch 12/20\n",
      "60000/60000 [==============================] - 1s 19us/sample - loss: 0.0062 - accuracy: 0.9983 - val_loss: 0.0781 - val_accuracy: 0.9820\n",
      "Epoch 13/20\n",
      "60000/60000 [==============================] - 1s 19us/sample - loss: 0.0050 - accuracy: 0.9987 - val_loss: 0.0799 - val_accuracy: 0.9824\n",
      "Epoch 14/20\n",
      "60000/60000 [==============================] - 1s 20us/sample - loss: 0.0039 - accuracy: 0.9991 - val_loss: 0.0851 - val_accuracy: 0.9818\n",
      "Epoch 15/20\n",
      "60000/60000 [==============================] - 1s 21us/sample - loss: 0.0032 - accuracy: 0.9991 - val_loss: 0.0894 - val_accuracy: 0.9804\n",
      "Epoch 16/20\n",
      "60000/60000 [==============================] - 1s 22us/sample - loss: 0.0023 - accuracy: 0.9993 - val_loss: 0.0880 - val_accuracy: 0.9836\n",
      "Epoch 17/20\n",
      "60000/60000 [==============================] - 1s 20us/sample - loss: 0.0019 - accuracy: 0.9994 - val_loss: 0.0878 - val_accuracy: 0.9827\n",
      "Epoch 18/20\n",
      "60000/60000 [==============================] - 1s 23us/sample - loss: 0.0015 - accuracy: 0.9996 - val_loss: 0.0929 - val_accuracy: 0.9822\n",
      "Epoch 19/20\n",
      "60000/60000 [==============================] - 1s 21us/sample - loss: 0.0011 - accuracy: 0.9998 - val_loss: 0.0964 - val_accuracy: 0.9816\n",
      "Epoch 20/20\n",
      "60000/60000 [==============================] - 1s 20us/sample - loss: 0.0010 - accuracy: 0.9997 - val_loss: 0.1050 - val_accuracy: 0.9810\n"
     ]
    }
   ],
   "source": [
    "from tensorflow.keras.callbacks import TensorBoard\n",
    "epochs = 20\n",
    "log_path = '/home/fer/data/formaciones/afi/tensorboard_log/activations_experiment2'\n",
    "for activation in [None, 'sigmoid', 'tanh', 'relu']:\n",
    "    # build and compile the model\n",
    "    model = Sequential()\n",
    "    model.add(Dense(512, activation=activation, input_shape=(784,)))\n",
    "    model.add(Dense(num_classes, activation='softmax'))\n",
    "    model.compile(loss='categorical_crossentropy',\n",
    "              optimizer=RMSprop(),\n",
    "              metrics=['accuracy'])\n",
    "    \n",
    "    tensorboard = TensorBoard(os.path.join(log_path,f'{activation}_{time.time()}'))\n",
    "    # fit the model, adding the tensorboard to the callbacks\n",
    "    model.fit(x_train, y_train,\n",
    "                    batch_size=batch_size,\n",
    "                    epochs=epochs,\n",
    "                    verbose=1,\n",
    "                    validation_data=(x_test, y_test),\n",
    "                    callbacks=[tensorboard])"
   ]
  },
  {
   "cell_type": "code",
   "execution_count": null,
   "metadata": {},
   "outputs": [],
   "source": []
  }
 ],
 "metadata": {
  "kernelspec": {
   "display_name": "dl_tf2",
   "language": "python",
   "name": "dl_tf2"
  },
  "language_info": {
   "codemirror_mode": {
    "name": "ipython",
    "version": 3
   },
   "file_extension": ".py",
   "mimetype": "text/x-python",
   "name": "python",
   "nbconvert_exporter": "python",
   "pygments_lexer": "ipython3",
   "version": "3.6.9"
  }
 },
 "nbformat": 4,
 "nbformat_minor": 2
}
