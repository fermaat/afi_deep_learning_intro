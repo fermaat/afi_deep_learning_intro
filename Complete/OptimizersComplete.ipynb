{
 "cells": [
  {
   "cell_type": "markdown",
   "metadata": {},
   "source": [
    "# Optimizers\n",
    "\n",
    "On this notebook we will take a look at some of the different optimizers present in keras backend and will compare them in a Tensorboard visualization.\n",
    "\n",
    "## The data\n",
    "We will use our old friend MNIST for its simplicity. \n",
    "\n",
    "<font color=red><b>Load the dataset and preprocess it. Keep in mind that we are going to use convolutions and it needs to be transformed into 4 dim tensors.\n",
    "<br>Hint: use the expand_dims function from numpy</b>\n",
    "</font>"
   ]
  },
  {
   "cell_type": "code",
   "execution_count": 1,
   "metadata": {},
   "outputs": [
    {
     "name": "stdout",
     "output_type": "stream",
     "text": [
      "x_train shape: (60000, 28, 28, 1)\n",
      "60000 train samples\n",
      "10000 test samples\n"
     ]
    }
   ],
   "source": [
    "import os, time\n",
    "from numpy import expand_dims\n",
    "import tensorflow as tf\n",
    "physical_devices = tf.config.experimental.list_physical_devices('GPU')\n",
    "tf.config.experimental.set_memory_growth(physical_devices[0], True)\n",
    "\n",
    "tf.keras.backend.clear_session() \n",
    "from tensorflow.keras.datasets import mnist\n",
    "\n",
    "# the data, split between train and test sets\n",
    "(x_train, y_train), (x_test, y_test) = mnist.load_data()\n",
    "\n",
    "x_train = x_train.astype('float32')\n",
    "x_test = x_test.astype('float32')\n",
    "x_train /= 255\n",
    "x_test /= 255\n",
    "\n",
    "x_train = expand_dims(x_train, 3)\n",
    "x_test = expand_dims(x_test, 3)\n",
    "\n",
    "print('x_train shape:', x_train.shape)\n",
    "print(x_train.shape[0], 'train samples')\n",
    "print(x_test.shape[0], 'test samples')"
   ]
  },
  {
   "cell_type": "markdown",
   "metadata": {},
   "source": [
    "## Model Architecture\n",
    "We are going to use convolutions on this example. Please don't be afraid, you will have a lot of convolution theory later on CNN block. Our model will consist on:\n",
    "- A conv2d layer with 16 units and 3x3 conv shape, relu-activated.\n",
    "- A maxPool layer\n",
    "- A conv2d layer with 16 units and 3x3 conv shape, relu-activated.\n",
    "- A maxPool layer\n",
    "- A flatten layer, followed by a dense softmax activated with the amount of categories as the number of units.\n",
    "- Our optimizer will be 'SGD' and we will optimize sparse categorical crossentropy. Add accuracy as a metric.\n",
    "\n",
    "<font color=red><b> Build the model\n",
    "</font>"
   ]
  },
  {
   "cell_type": "code",
   "execution_count": 2,
   "metadata": {},
   "outputs": [
    {
     "name": "stdout",
     "output_type": "stream",
     "text": [
      "Model: \"sequential\"\n",
      "_________________________________________________________________\n",
      "Layer (type)                 Output Shape              Param #   \n",
      "=================================================================\n",
      "conv2d (Conv2D)              (None, 26, 26, 16)        160       \n",
      "_________________________________________________________________\n",
      "max_pooling2d (MaxPooling2D) (None, 13, 13, 16)        0         \n",
      "_________________________________________________________________\n",
      "conv2d_1 (Conv2D)            (None, 11, 11, 16)        2320      \n",
      "_________________________________________________________________\n",
      "max_pooling2d_1 (MaxPooling2 (None, 5, 5, 16)          0         \n",
      "_________________________________________________________________\n",
      "flatten (Flatten)            (None, 400)               0         \n",
      "_________________________________________________________________\n",
      "dense (Dense)                (None, 10)                4010      \n",
      "=================================================================\n",
      "Total params: 6,490\n",
      "Trainable params: 6,490\n",
      "Non-trainable params: 0\n",
      "_________________________________________________________________\n"
     ]
    }
   ],
   "source": [
    "from tensorflow.keras.models import Sequential\n",
    "from tensorflow.keras.layers import Conv2D, MaxPooling2D, Flatten, Dense\n",
    "\n",
    "optimizer = 'SGD'\n",
    "\n",
    "model = Sequential()\n",
    "model.add(Conv2D(16, (3,3), activation='relu', input_shape=x_train[0].shape))\n",
    "model.add(MaxPooling2D())\n",
    "model.add(Conv2D(16, (3,3), activation='relu'))\n",
    "model.add(MaxPooling2D())\n",
    "model.add(Flatten())\n",
    "model.add(Dense(10, activation='softmax'))\n",
    "model.compile(optimizer=optimizer, loss='sparse_categorical_crossentropy', metrics=['accuracy'])\n",
    "model.summary()\n",
    "\n",
    "\n"
   ]
  },
  {
   "cell_type": "markdown",
   "metadata": {},
   "source": [
    "<font color=red><b> Train the model for 5 epochs, with a batch size of 32. Evaluate its performance\n",
    "</font>"
   ]
  },
  {
   "cell_type": "code",
   "execution_count": 3,
   "metadata": {},
   "outputs": [
    {
     "name": "stdout",
     "output_type": "stream",
     "text": [
      "Train on 60000 samples\n",
      "Epoch 1/5\n",
      "60000/60000 [==============================] - 7s 124us/sample - loss: 0.5537 - accuracy: 0.8420\n",
      "Epoch 2/5\n",
      "60000/60000 [==============================] - 6s 100us/sample - loss: 0.2015 - accuracy: 0.9412\n",
      "Epoch 3/5\n",
      "60000/60000 [==============================] - 5s 79us/sample - loss: 0.1515 - accuracy: 0.9556\n",
      "Epoch 4/5\n",
      "60000/60000 [==============================] - 3s 56us/sample - loss: 0.1270 - accuracy: 0.9626\n",
      "Epoch 5/5\n",
      "60000/60000 [==============================] - 5s 85us/sample - loss: 0.1101 - accuracy: 0.9674\n"
     ]
    },
    {
     "data": {
      "text/plain": [
       "[0.09189745162166656, 0.9724]"
      ]
     },
     "execution_count": 3,
     "metadata": {},
     "output_type": "execute_result"
    }
   ],
   "source": [
    "model.fit(x_train, y_train, batch_size=32, epochs=5)\n",
    "model.evaluate(x_test, y_test, verbose=0)"
   ]
  },
  {
   "cell_type": "markdown",
   "metadata": {},
   "source": [
    "## Optimizer benchmark\n",
    "\n",
    "We are going to compare more than one optimizer on the same problem. \n",
    "\n",
    "<font color=red><b> Create a build_model function with the optimizer as a parameter and the same model architecture. Try the one you want\n",
    "</font>"
   ]
  },
  {
   "cell_type": "code",
   "execution_count": 4,
   "metadata": {},
   "outputs": [],
   "source": [
    "def build_model(optimizer):\n",
    "    model = Sequential()\n",
    "    model.add(Conv2D(16, (3,3), activation='relu', input_shape=x_train[0].shape))\n",
    "    model.add(MaxPooling2D())\n",
    "    model.add(Conv2D(16, (3,3), activation='relu'))\n",
    "    model.add(MaxPooling2D())\n",
    "    model.add(Flatten())\n",
    "    model.add(Dense(10, activation='softmax'))\n",
    "    model.compile(optimizer=optimizer, loss='sparse_categorical_crossentropy', metrics=['accuracy'])\n",
    "    return model"
   ]
  },
  {
   "cell_type": "markdown",
   "metadata": {},
   "source": [
    "Now let's run the model with all the optimizers in the list and view the results in tensorboard\n",
    "\n",
    "\n",
    "<font color=red><b> Let's do precisely that!\n",
    "    <br> Hint: remember to add the tensorboard as a callback for the training.\n",
    "    <br> Hint2: use the function os.path.join to include the optimizer name on each model call\n",
    "    \n",
    "</font>"
   ]
  },
  {
   "cell_type": "code",
   "execution_count": 5,
   "metadata": {},
   "outputs": [
    {
     "name": "stdout",
     "output_type": "stream",
     "text": [
      "Train on 60000 samples\n",
      "Epoch 1/5\n",
      "60000/60000 [==============================] - 6s 99us/sample - loss: 2.3109 - accuracy: 0.1085\n",
      "Epoch 2/5\n",
      "60000/60000 [==============================] - 7s 124us/sample - loss: 2.2664 - accuracy: 0.1390\n",
      "Epoch 3/5\n",
      "60000/60000 [==============================] - 6s 98us/sample - loss: 2.2270 - accuracy: 0.1781\n",
      "Epoch 4/5\n",
      "60000/60000 [==============================] - 5s 78us/sample - loss: 2.1882 - accuracy: 0.2205\n",
      "Epoch 5/5\n",
      "60000/60000 [==============================] - 5s 83us/sample - loss: 2.1478 - accuracy: 0.2609\n",
      "Train on 60000 samples\n",
      "Epoch 1/5\n",
      "60000/60000 [==============================] - 6s 107us/sample - loss: 1.1991 - accuracy: 0.7058\n",
      "Epoch 2/5\n",
      "60000/60000 [==============================] - 7s 109us/sample - loss: 0.5270 - accuracy: 0.8590\n",
      "Epoch 3/5\n",
      "60000/60000 [==============================] - 5s 88us/sample - loss: 0.4165 - accuracy: 0.8833\n",
      "Epoch 4/5\n",
      "60000/60000 [==============================] - 7s 109us/sample - loss: 0.3676 - accuracy: 0.8955\n",
      "Epoch 5/5\n",
      "60000/60000 [==============================] - 4s 71us/sample - loss: 0.3380 - accuracy: 0.9036\n",
      "Train on 60000 samples\n",
      "Epoch 1/5\n",
      "60000/60000 [==============================] - 4s 66us/sample - loss: 0.2460 - accuracy: 0.9262\n",
      "Epoch 2/5\n",
      "60000/60000 [==============================] - 6s 99us/sample - loss: 0.0822 - accuracy: 0.9752\n",
      "Epoch 3/5\n",
      "60000/60000 [==============================] - 6s 101us/sample - loss: 0.0640 - accuracy: 0.9804\n",
      "Epoch 4/5\n",
      "60000/60000 [==============================] - 6s 107us/sample - loss: 0.0529 - accuracy: 0.9833\n",
      "Epoch 5/5\n",
      "60000/60000 [==============================] - 6s 108us/sample - loss: 0.0462 - accuracy: 0.9855\n",
      "Train on 60000 samples\n",
      "Epoch 1/5\n",
      "60000/60000 [==============================] - 6s 99us/sample - loss: 0.4365 - accuracy: 0.8750\n",
      "Epoch 2/5\n",
      "60000/60000 [==============================] - 4s 67us/sample - loss: 0.1603 - accuracy: 0.9537\n",
      "Epoch 3/5\n",
      "60000/60000 [==============================] - 4s 65us/sample - loss: 0.1239 - accuracy: 0.9636\n",
      "Epoch 4/5\n",
      "60000/60000 [==============================] - 5s 75us/sample - loss: 0.1049 - accuracy: 0.9688\n",
      "Epoch 5/5\n",
      "60000/60000 [==============================] - 4s 68us/sample - loss: 0.0918 - accuracy: 0.9721\n",
      "Train on 60000 samples\n",
      "Epoch 1/5\n",
      "60000/60000 [==============================] - 6s 92us/sample - loss: 0.2248 - accuracy: 0.9332\n",
      "Epoch 2/5\n",
      "60000/60000 [==============================] - 6s 96us/sample - loss: 0.0800 - accuracy: 0.9756\n",
      "Epoch 3/5\n",
      "60000/60000 [==============================] - 7s 123us/sample - loss: 0.0605 - accuracy: 0.9812\n",
      "Epoch 4/5\n",
      "60000/60000 [==============================] - 8s 127us/sample - loss: 0.0511 - accuracy: 0.9844\n",
      "Epoch 5/5\n",
      "60000/60000 [==============================] - 9s 150us/sample - loss: 0.0448 - accuracy: 0.9861\n",
      "Train on 60000 samples\n",
      "Epoch 1/5\n",
      "60000/60000 [==============================] - 8s 133us/sample - loss: 0.2442 - accuracy: 0.9287\n",
      "Epoch 2/5\n",
      "60000/60000 [==============================] - 9s 146us/sample - loss: 0.0848 - accuracy: 0.9740\n",
      "Epoch 3/5\n",
      "60000/60000 [==============================] - 6s 104us/sample - loss: 0.0652 - accuracy: 0.9800\n",
      "Epoch 4/5\n",
      "60000/60000 [==============================] - 8s 129us/sample - loss: 0.0560 - accuracy: 0.9832\n",
      "Epoch 5/5\n",
      "60000/60000 [==============================] - 9s 143us/sample - loss: 0.0498 - accuracy: 0.9848\n",
      "Train on 60000 samples\n",
      "Epoch 1/5\n",
      "60000/60000 [==============================] - 6s 104us/sample - loss: 0.5704 - accuracy: 0.8334\n",
      "Epoch 2/5\n",
      "60000/60000 [==============================] - 5s 87us/sample - loss: 0.1665 - accuracy: 0.9503\n",
      "Epoch 3/5\n",
      "60000/60000 [==============================] - 7s 110us/sample - loss: 0.1273 - accuracy: 0.9625\n",
      "Epoch 4/5\n",
      "60000/60000 [==============================] - 6s 104us/sample - loss: 0.1073 - accuracy: 0.9681\n",
      "Epoch 5/5\n",
      "60000/60000 [==============================] - 6s 105us/sample - loss: 0.0949 - accuracy: 0.9714\n"
     ]
    }
   ],
   "source": [
    "from tensorflow.keras.callbacks import TensorBoard\n",
    "log_path = '/home/fer/data/formaciones/afi/tensorboard_log/optimizers_experiment'\n",
    "optimizers = [\n",
    "    'Adadelta',\n",
    "    'Adagrad',\n",
    "    'Adam',\n",
    "    'Adamax',\n",
    "    'Nadam',\n",
    "    'RMSprop',\n",
    "    'SGD']\n",
    "for optimizer in optimizers:\n",
    "    model = build_model(optimizer)\n",
    "    tensorboard = TensorBoard(os.path.join(log_path,f'{optimizer}_{time.time()}'))\n",
    "    model.fit(x_train, y_train, batch_size=32, epochs=5, callbacks=[tensorboard])"
   ]
  },
  {
   "cell_type": "code",
   "execution_count": null,
   "metadata": {},
   "outputs": [],
   "source": []
  }
 ],
 "metadata": {
  "kernelspec": {
   "display_name": "dl_tf2",
   "language": "python",
   "name": "dl_tf2"
  },
  "language_info": {
   "codemirror_mode": {
    "name": "ipython",
    "version": 3
   },
   "file_extension": ".py",
   "mimetype": "text/x-python",
   "name": "python",
   "nbconvert_exporter": "python",
   "pygments_lexer": "ipython3",
   "version": "3.6.9"
  }
 },
 "nbformat": 4,
 "nbformat_minor": 4
}
