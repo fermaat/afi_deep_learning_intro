{
 "cells": [
  {
   "cell_type": "markdown",
   "metadata": {},
   "source": [
    "# MNIST one-to-one: DL Vs Classic ML\n",
    "\n",
    "Interesting test. Who will be the best at it? On the right corner we have DL, which will use only a very simple model, no convolutions, no strange normalization. Nothing. On the left side we have our old friends, SVM, RF, PCA and so on, ready to battle. Let's see what happens.\n",
    "\n",
    "## The dataset\n",
    "You know, It's MNIST\n",
    "\n",
    "\n",
    "<font color=red><b> Import the dataset\n",
    "</font>"
   ]
  },
  {
   "cell_type": "code",
   "execution_count": null,
   "metadata": {},
   "outputs": [],
   "source": [
    "import os, time\n",
    "from numpy import expand_dims\n",
    "import tensorflow as tf\n",
    "physical_devices = tf.config.experimental.list_physical_devices('GPU')\n",
    "tf.config.experimental.set_memory_growth(physical_devices[0], True)\n",
    "\n",
    "tf.keras.backend.clear_session() \n",
    "..."
   ]
  },
  {
   "cell_type": "markdown",
   "metadata": {},
   "source": [
    "## Round 1: DL\n",
    "\n",
    "As mentioned above, we will make a very simplisticDL model\n",
    "\n",
    "<font color=red><b> Build your own model and train it.\n",
    "</font>"
   ]
  },
  {
   "cell_type": "code",
   "execution_count": null,
   "metadata": {},
   "outputs": [],
   "source": [
    "..."
   ]
  },
  {
   "cell_type": "markdown",
   "metadata": {},
   "source": [
    "## Round 2: Classic baseline\n",
    "\n",
    "Let's see what can the classic guys do with not a big effort:\n",
    "\n",
    "<font color=red><b> Build a couple of classic models and see how it goes. How long does it take?\n",
    "</font>"
   ]
  },
  {
   "cell_type": "code",
   "execution_count": null,
   "metadata": {},
   "outputs": [],
   "source": [
    "from sklearn.metrics import accuracy_score\n",
    "from sklearn.ensemble import RandomForestClassifier\n",
    "from sklearn.linear_model import LogisticRegression\n",
    "..."
   ]
  },
  {
   "cell_type": "markdown",
   "metadata": {},
   "source": [
    "## Round 3: lets get convolutional\n",
    "Now DL will still being simplistic, but in this case, let's use some convolutions\n",
    "\n",
    "<font color=red><b> Build a simple CNN and see if you can beat classic ML\n",
    "</font>"
   ]
  },
  {
   "cell_type": "code",
   "execution_count": null,
   "metadata": {},
   "outputs": [],
   "source": [
    "from tensorflow.keras.layers import Conv2D, Dropout, MaxPooling2D\n",
    "..."
   ]
  },
  {
   "cell_type": "markdown",
   "metadata": {},
   "source": [
    "## Round 4: The Empire Strikes Back\n",
    "Let's reduce dimensionality so that we can be sure we just use the interesting information\n",
    "\n",
    "<font color=red><b> Use PCA and reduce the dataset dimensions to something, let's say 95% of variability. Then, train again on this new data. Add KNN to the equation\n",
    "</font>"
   ]
  },
  {
   "cell_type": "code",
   "execution_count": null,
   "metadata": {},
   "outputs": [],
   "source": [
    "from sklearn.decomposition import PCA\n",
    "from sklearn.neighbors import KNeighborsClassifier\n",
    "..."
   ]
  },
  {
   "cell_type": "markdown",
   "metadata": {},
   "source": [
    "## Final Round: SVM and RF grid search\n",
    "\n",
    "These guys are now taking it seriously. \n",
    "\n",
    "<font color=red><b> Let's see what SVM and a grid search on RF can do. Maybe it is a good idea to train on SVM with even less features... or maybe let the hard training to be at home.\n",
    "</font>"
   ]
  },
  {
   "cell_type": "code",
   "execution_count": null,
   "metadata": {},
   "outputs": [],
   "source": [
    "from sklearn.model_selection import GridSearchCV\n",
    "..."
   ]
  },
  {
   "cell_type": "code",
   "execution_count": 56,
   "metadata": {},
   "outputs": [
    {
     "data": {
      "text/plain": [
       "0.9255"
      ]
     },
     "execution_count": 56,
     "metadata": {},
     "output_type": "execute_result"
    }
   ],
   "source": [
    "clf = SVC(C=0.1, kernel='rbf', gamma=0.1)\n",
    "clf = clf.fit(x_train_pca, y_train)\n",
    "y_pred_svc = clf.predict(x_test_pca)\n",
    "svm_score = accuracy_score(y_test, y_pred_lr)\n",
    "svm_score"
   ]
  },
  {
   "cell_type": "code",
   "execution_count": null,
   "metadata": {},
   "outputs": [],
   "source": []
  }
 ],
 "metadata": {
  "kernelspec": {
   "display_name": "dl_tf2",
   "language": "python",
   "name": "dl_tf2"
  },
  "language_info": {
   "codemirror_mode": {
    "name": "ipython",
    "version": 3
   },
   "file_extension": ".py",
   "mimetype": "text/x-python",
   "name": "python",
   "nbconvert_exporter": "python",
   "pygments_lexer": "ipython3",
   "version": "3.6.9"
  }
 },
 "nbformat": 4,
 "nbformat_minor": 4
}
